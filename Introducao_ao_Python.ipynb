{
  "nbformat": 4,
  "nbformat_minor": 0,
  "metadata": {
    "colab": {
      "name": "Aula_1_-_Introduo_ao_Python.ipynb",
      "provenance": [],
      "collapsed_sections": [],
      "toc_visible": true,
      "include_colab_link": true
    },
    "kernelspec": {
      "display_name": "Python 3",
      "language": "python",
      "name": "python3"
    }
  },
  "cells": [
    {
      "cell_type": "markdown",
      "metadata": {
        "id": "view-in-github",
        "colab_type": "text"
      },
      "source": [
        "<a href=\"https://colab.research.google.com/github/elisales/TecnicoTI/blob/master/Introducao_ao_Python.ipynb\" target=\"_parent\"><img src=\"https://colab.research.google.com/assets/colab-badge.svg\" alt=\"Open In Colab\"/></a>"
      ]
    },
    {
      "cell_type": "markdown",
      "metadata": {
        "id": "8aBKG2iUWtqa",
        "colab_type": "text"
      },
      "source": [
        "# Introdução à Linguagem Python\n",
        "\n",
        "Objetivo: apresentação das funcionalidades básicas da linguagem Python\n",
        "\n",
        "\n",
        "Conteúdo:\n",
        "- Caracterização da Linguagem Python\n",
        "- Vantagens\n",
        "- Saída de dados\n",
        "- cálculos básicos\n",
        "- tipo lista\n",
        "- importação de pacotes"
      ]
    },
    {
      "cell_type": "markdown",
      "metadata": {
        "id": "ZwGg2YRmWtqc",
        "colab_type": "text"
      },
      "source": [
        "- Python é uma linguagem de propósito geral - às vezes referida como utilitária - que é projetada para ser simples de ler e escrever. O seu objetivo é ser uma linguagem simples, porém completa.\n",
        "- Linguagem interpretada não tipada.\n",
        "- Liguagem estruturada, mas possui suporte a orientação a objetos.\n"
      ]
    },
    {
      "cell_type": "markdown",
      "metadata": {
        "id": "8yf95fqwWtqe",
        "colab_type": "text"
      },
      "source": [
        "Uma introdução aos conceitos básicos de Python. Saiba como usar o Python de forma interativa e através de um script. Crie suas primeiras variáveis e familiarize-se com os tipos básicos de dados do Python."
      ]
    },
    {
      "cell_type": "markdown",
      "metadata": {
        "id": "bvJ3kBLoO0jt",
        "colab_type": "text"
      },
      "source": [
        "## Entrada e Saída de Dados em Python\n",
        "\n",
        "print (......)\n",
        "\n",
        "input()\n"
      ]
    },
    {
      "cell_type": "code",
      "metadata": {
        "id": "93GQJAx1Wtqg",
        "colab_type": "code",
        "colab": {}
      },
      "source": [
        "# Comentário em Python\n",
        "# Imprimir mensagem em Python\n",
        "print(\"Alô, mundo!\")"
      ],
      "execution_count": null,
      "outputs": []
    },
    {
      "cell_type": "code",
      "metadata": {
        "id": "aBytQrmlFdRZ",
        "colab_type": "code",
        "colab": {
          "base_uri": "https://localhost:8080/",
          "height": 51
        },
        "outputId": "f5e409e0-4ecc-4c47-977e-49d618d16b52"
      },
      "source": [
        "print(\"Quem é esta aluna que acabou de chegar?\")\n",
        "print(\"É a Juliana.\")"
      ],
      "execution_count": null,
      "outputs": [
        {
          "output_type": "stream",
          "text": [
            "Quem é esta aluna que acabou de chegar?\n",
            "É a Juliana.\n"
          ],
          "name": "stdout"
        }
      ]
    },
    {
      "cell_type": "code",
      "metadata": {
        "id": "0JvVdf1gF3U-",
        "colab_type": "code",
        "colab": {}
      },
      "source": [
        "este texto é para eu me lembrar de ir ao banheiro."
      ],
      "execution_count": null,
      "outputs": []
    },
    {
      "cell_type": "code",
      "metadata": {
        "id": "kugXUPx-PYP-",
        "colab_type": "code",
        "colab": {}
      },
      "source": [
        "print(\"Qual é o seu nome? \")\n",
        "nome = input()\n",
        "print(\"Olá \" + nome + \", tudo bem?\")"
      ],
      "execution_count": null,
      "outputs": []
    },
    {
      "cell_type": "markdown",
      "metadata": {
        "id": "xNas9M98P0AK",
        "colab_type": "text"
      },
      "source": [
        "### Crie um programa que:\n",
        "- pegunte o nome da pessoa, profissão\n",
        "\n",
        "- responda com uma mensagem positiva.\n",
        "\n",
        "Exemplo: João, a profissão de Professor é muito importante"
      ]
    },
    {
      "cell_type": "code",
      "metadata": {
        "id": "GFpO_KPVQiBa",
        "colab_type": "code",
        "colab": {}
      },
      "source": [
        "# Escreva o codigo aqui:\n",
        "\n",
        "print(\"Qual é o seu nome?\")\n",
        "nome = input()\n",
        "print(\"Qual é a sua profissão?\")\n",
        "profissao = input()\n",
        "print(nome + \", a tua profissão de \" + profissao + \" é muito importante\")\n",
        "\n",
        "\n"
      ],
      "execution_count": null,
      "outputs": []
    },
    {
      "cell_type": "code",
      "metadata": {
        "id": "wRKYoOmUIyIg",
        "colab_type": "code",
        "colab": {}
      },
      "source": [
        ""
      ],
      "execution_count": null,
      "outputs": []
    },
    {
      "cell_type": "markdown",
      "metadata": {
        "id": "DzNprIBE61XA",
        "colab_type": "text"
      },
      "source": [
        "### Usando Python com uma calculadora\n",
        "- basta escrever as operações."
      ]
    },
    {
      "cell_type": "code",
      "metadata": {
        "id": "XzbL-SxpWtqw",
        "colab_type": "code",
        "colab": {
          "base_uri": "https://localhost:8080/",
          "height": 34
        },
        "outputId": "3405afc3-9c09-4c28-bf93-24ad7624bc09"
      },
      "source": [
        "a = 2\n",
        "a"
      ],
      "execution_count": null,
      "outputs": [
        {
          "output_type": "execute_result",
          "data": {
            "text/plain": [
              "2"
            ]
          },
          "metadata": {
            "tags": []
          },
          "execution_count": 13
        }
      ]
    },
    {
      "cell_type": "code",
      "metadata": {
        "id": "WaR81ydLWtq8",
        "colab_type": "code",
        "colab": {
          "base_uri": "https://localhost:8080/",
          "height": 34
        },
        "outputId": "29beb777-a578-4411-b559-386c82a01062"
      },
      "source": [
        "a = 2/3\n",
        "a"
      ],
      "execution_count": null,
      "outputs": [
        {
          "output_type": "execute_result",
          "data": {
            "text/plain": [
              "0.6666666666666666"
            ]
          },
          "metadata": {
            "tags": []
          },
          "execution_count": 14
        }
      ]
    },
    {
      "cell_type": "code",
      "metadata": {
        "id": "YBpzjlHeJ0kc",
        "colab_type": "code",
        "colab": {}
      },
      "source": [
        ""
      ],
      "execution_count": null,
      "outputs": []
    },
    {
      "cell_type": "code",
      "metadata": {
        "id": "Ejy6y0OF7FYh",
        "colab_type": "code",
        "colab": {
          "base_uri": "https://localhost:8080/",
          "height": 85
        },
        "outputId": "1af32466-7e4e-4a46-9e36-bcfe7fa7f7e5"
      },
      "source": [
        "print(5 / 8)\n",
        "print(3 * 5)\n",
        "print(7 + 10)\n",
        "5 -2"
      ],
      "execution_count": null,
      "outputs": [
        {
          "output_type": "stream",
          "text": [
            "0.625\n",
            "15\n",
            "17\n"
          ],
          "name": "stdout"
        },
        {
          "output_type": "execute_result",
          "data": {
            "text/plain": [
              "3"
            ]
          },
          "metadata": {
            "tags": []
          },
          "execution_count": 15
        }
      ]
    },
    {
      "cell_type": "code",
      "metadata": {
        "id": "oVKopYtSKLus",
        "colab_type": "code",
        "colab": {
          "base_uri": "https://localhost:8080/",
          "height": 34
        },
        "outputId": "b42aefd1-0783-4665-cc45-778f6eb1251b"
      },
      "source": [
        "(4+2*2)/8"
      ],
      "execution_count": null,
      "outputs": [
        {
          "output_type": "execute_result",
          "data": {
            "text/plain": [
              "1.0"
            ]
          },
          "metadata": {
            "tags": []
          },
          "execution_count": 16
        }
      ]
    },
    {
      "cell_type": "markdown",
      "metadata": {
        "id": "vARjMusYWtrC",
        "colab_type": "text"
      },
      "source": [
        "## Operadores Lógicos:\n",
        "    - AND --> &  and\n",
        "    - OR --> | or\n",
        "    - not"
      ]
    },
    {
      "cell_type": "code",
      "metadata": {
        "id": "z9D_eKS1WtrE",
        "colab_type": "code",
        "colab": {}
      },
      "source": [
        "# Exemplo de uso de operadores lógicos\n",
        "\n",
        "a = True\n",
        "b = False\n",
        "print(a and b)\n",
        "print (a & b)\n",
        "print (a or b)\n",
        "print (a | b)\n",
        "print(not a)"
      ],
      "execution_count": null,
      "outputs": []
    },
    {
      "cell_type": "code",
      "metadata": {
        "id": "0PJytMztLiRI",
        "colab_type": "code",
        "colab": {}
      },
      "source": [
        "# outro exemplo\n",
        "print(True and True)\n",
        "print(True and False)\n",
        "print(False and True)\n",
        "print(False and False)\n"
      ],
      "execution_count": null,
      "outputs": []
    },
    {
      "cell_type": "code",
      "metadata": {
        "id": "wCFd8ht2Nc-R",
        "colab_type": "code",
        "colab": {
          "base_uri": "https://localhost:8080/",
          "height": 85
        },
        "outputId": "0784f2da-a09c-4893-9b6b-2631627dd4cc"
      },
      "source": [
        "# outro exemplo\n",
        "print(True or True)\n",
        "print(True or False)\n",
        "print(False or True)\n",
        "print(False or False)"
      ],
      "execution_count": null,
      "outputs": [
        {
          "output_type": "stream",
          "text": [
            "True\n",
            "True\n",
            "True\n",
            "False\n"
          ],
          "name": "stdout"
        }
      ]
    },
    {
      "cell_type": "code",
      "metadata": {
        "id": "FYgNHwpHN8Gy",
        "colab_type": "code",
        "colab": {
          "base_uri": "https://localhost:8080/",
          "height": 119
        },
        "outputId": "65c9e200-1dd9-4f72-d99e-72d1fea83733"
      },
      "source": [
        "print(not True)\n",
        "print( not False)\n",
        "print(not not False)\n",
        "print(not not not False)\n",
        "print(not not not not False)\n",
        "print(not not not not not False)"
      ],
      "execution_count": null,
      "outputs": [
        {
          "output_type": "stream",
          "text": [
            "False\n",
            "True\n",
            "False\n",
            "True\n",
            "False\n",
            "True\n"
          ],
          "name": "stdout"
        }
      ]
    },
    {
      "cell_type": "code",
      "metadata": {
        "id": "YuxDw9zPPaKW",
        "colab_type": "code",
        "colab": {
          "base_uri": "https://localhost:8080/",
          "height": 34
        },
        "outputId": "ff1b8ab3-79d3-43b8-d769-33ecccb19ac6"
      },
      "source": [
        "a= True\n",
        "b = False\n",
        "c = True\n",
        "\n",
        "resposta = (a or b) and c\n",
        "print(resposta)"
      ],
      "execution_count": null,
      "outputs": [
        {
          "output_type": "stream",
          "text": [
            "True\n"
          ],
          "name": "stdout"
        }
      ]
    },
    {
      "cell_type": "code",
      "metadata": {
        "id": "AgzcLPIVQn7k",
        "colab_type": "code",
        "colab": {
          "base_uri": "https://localhost:8080/",
          "height": 34
        },
        "outputId": "190a2627-972b-43b6-818f-67c000a3fcb4"
      },
      "source": [
        "# desafio\n",
        "a= True\n",
        "b = False\n",
        "c = True\n",
        "d= True\n",
        "e = True\n",
        "resposta = (a or b) and ((c and d) or e)\n",
        "print(resposta)\n"
      ],
      "execution_count": null,
      "outputs": [
        {
          "output_type": "stream",
          "text": [
            "True\n"
          ],
          "name": "stdout"
        }
      ]
    },
    {
      "cell_type": "code",
      "metadata": {
        "id": "eQaY6GhzBnMN",
        "colab_type": "code",
        "colab": {
          "base_uri": "https://localhost:8080/",
          "height": 88
        },
        "outputId": "d821326c-3594-4196-d645-ac8429ef591b"
      },
      "source": [
        "# Exmplo de uso de operadores lógicos\n",
        "# Escolha do namorado(a) ideal\n",
        "\n",
        "nome = \"João\"\n",
        "alto = True\n",
        "bonito = True\n",
        "malhado = True\n",
        "rico = True \n",
        "divertido = True\n",
        "careca = True\n",
        "\n",
        "namorado_ideal = alto and bonito and malhado and rico and divertido and not careca\n",
        "\n",
        "print(nome, \"é um namorado ideal?\")\n",
        "print(\"resposta: \", namorado_ideal)\n",
        "\n",
        "# construa a sua lógica de namorado(a) possível\n",
        "\n",
        "namorado_possivel = rico\n",
        "print(nome, \"é um namorado possível?\")\n",
        "print(\"resposta: \", namorado_possivel)"
      ],
      "execution_count": null,
      "outputs": [
        {
          "output_type": "stream",
          "text": [
            "João é um namorado ideal?\n",
            "resposta:  False\n",
            "João é um namorado possível?\n",
            "resposta:  True\n"
          ],
          "name": "stdout"
        }
      ]
    },
    {
      "cell_type": "code",
      "metadata": {
        "id": "TIvAFDAzWtrM",
        "colab_type": "code",
        "colab": {
          "base_uri": "https://localhost:8080/",
          "height": 51
        },
        "outputId": "cb1f4d64-8acd-4b22-a4a7-24dface2eed2"
      },
      "source": [
        "# Exemplo de uso do print - outra maneira\n",
        "print (\"a = %d b = %d\" % (10 ,20))\n",
        "print(\"alô, mundo\", \"Estou estudando Python\", \"tenho\", 24, \"anos\")"
      ],
      "execution_count": null,
      "outputs": [
        {
          "output_type": "stream",
          "text": [
            "a = 10 b = 20\n",
            "alô, mundo Estou estudando Python tenho 24 anos\n"
          ],
          "name": "stdout"
        }
      ]
    },
    {
      "cell_type": "markdown",
      "metadata": {
        "id": "lg0_6RP0WtrU",
        "colab_type": "text"
      },
      "source": [
        "O Python é perfeitamente adequado para fazer cálculos básicos. Além da adição, subtração, multiplicação e divisão, também há suporte para operações mais avançadas, tais como:\n",
        "- Exponenciação: **. \n",
        "   - Este operador eleva o número à esquerda para o poder do número à sua direita. Por exemplo, 4 ** 2 dará 16.\n",
        "- Modulo:%. Este operador retorna o restante da divisão do número à esquerda pelo número à direita. Por exemplo, 18% 7 é igual a 4.\n",
        "- Divisão inteira: //\n",
        "   - 3/2, dará 1."
      ]
    },
    {
      "cell_type": "code",
      "metadata": {
        "id": "FW1j-ixcWtrW",
        "colab_type": "code",
        "colab": {
          "base_uri": "https://localhost:8080/",
          "height": 85
        },
        "outputId": "de71c261-f9bc-4b81-ca3b-b323d034286c"
      },
      "source": [
        "# Exemplo de uso da Exponenciação\n",
        "print(4 ** 2)\n",
        "\n",
        "\n",
        "\n",
        "# Exemplo de Divisão Inteira\n",
        "print((19+1) // 4)\n",
        "\n",
        "# Exemplo de resto da divisão\n",
        "print((19+1) % 4)\n",
        "\n",
        "\n",
        "print(\" Não sei não é resposta.\")\n"
      ],
      "execution_count": null,
      "outputs": [
        {
          "output_type": "stream",
          "text": [
            "16\n",
            "5\n",
            "0\n",
            " Não sei não é resposta.\n"
          ],
          "name": "stdout"
        }
      ]
    },
    {
      "cell_type": "code",
      "metadata": {
        "id": "EWG-R2vGWtrf",
        "colab_type": "code",
        "colab": {
          "base_uri": "https://localhost:8080/",
          "height": 71
        },
        "outputId": "40bfca05-b29e-43fc-fa79-54440dbc88bf"
      },
      "source": [
        "# Exercício 01\n",
        "print(\"Se você tomou um empréstimo de R$1.000,00 com taxa de juros de 20% ao ano, após 04 anos qual é o valor de sua dívida?\")\n",
        "emprestimo = 1000.0\n",
        "taxa = 0.2\n",
        "anos = 4\n",
        "divida = emprestimo *(1+taxa)**anos\n",
        "print(\"Minha dívida é de \", divida, \"reais, depois de \", anos,\"anos.\" )\n"
      ],
      "execution_count": null,
      "outputs": [
        {
          "output_type": "stream",
          "text": [
            "Se você tomou um empréstimo de R$1.000,00 com taxa de juros de 20% ao ano, após 04 anos qual é o valor de sua dívida?\n",
            "Minha dívida é de  2073.6 reais, depois de  4 anos.\n"
          ],
          "name": "stdout"
        }
      ]
    },
    {
      "cell_type": "code",
      "metadata": {
        "id": "DxKTSL1yWtrt",
        "colab_type": "code",
        "colab": {
          "base_uri": "https://localhost:8080/",
          "height": 34
        },
        "outputId": "4542dc99-1a1a-4674-dfdd-406854b9d814"
      },
      "source": [
        "# exercício:\n",
        "# O aluno Elvis Medeiros, aplicou R$2.0000,00 na bolsa de valores durante 03 anos.\n",
        "# No primeiro ano ele teve um lucro de 20%.\n",
        "# No segundo ano ele teve um prejuízo de 8%\n",
        "# No terceiro ano ele teve um lucro de 4%\n",
        "# Calcule o valor em reais que ele obteve no final do terceiro ano.\n",
        "\n",
        "\n",
        "valor = 2000\n",
        "ano1 = valor *(1+ 0.2)\n",
        "ano2 = ano1 * (1 -0.08)\n",
        "ano3 = ano2 * (1 + 0.04)\n",
        "lucro = ano3 - valor\n",
        "print(lucro)"
      ],
      "execution_count": null,
      "outputs": [
        {
          "output_type": "stream",
          "text": [
            "-252.79999999999995\n"
          ],
          "name": "stdout"
        }
      ]
    },
    {
      "cell_type": "markdown",
      "metadata": {
        "id": "rHFpj7jGWtr1",
        "colab_type": "text"
      },
      "source": [
        "## Variáveis e Tipos em Python\n",
        "- Em Python, uma variável permite que você se refira a um valor com um nome. Para atribuir um valor a  uma variável use =, como este exemplo:\n",
        "\n",
        "x = 5\n",
        "\n",
        "Agora você pode usar o nome dessa variável, x, em vez do valor real, 5.\n",
        "\n",
        "Lembre-se, = em Python significa atribuição, não igualdade!"
      ]
    },
    {
      "cell_type": "code",
      "metadata": {
        "id": "_f7iSQckWtr2",
        "colab_type": "code",
        "colab": {
          "base_uri": "https://localhost:8080/",
          "height": 51
        },
        "outputId": "5387d134-c884-4049-9a13-91491ae6f71e"
      },
      "source": [
        "x=5\n",
        "print(x)\n",
        "y = 3\n",
        "print(y)\n"
      ],
      "execution_count": null,
      "outputs": [
        {
          "output_type": "stream",
          "text": [
            "5\n",
            "3\n"
          ],
          "name": "stdout"
        }
      ]
    },
    {
      "cell_type": "code",
      "metadata": {
        "id": "aalFUTUIWtsA",
        "colab_type": "code",
        "colab": {
          "base_uri": "https://localhost:8080/",
          "height": 136
        },
        "outputId": "3336354f-9025-4669-c21c-8fc2a3c804bd"
      },
      "source": [
        "x = 5\n",
        "print(x)\n",
        "X = 10\n",
        "print(X)\n",
        "valor = 10\n",
        "Valor = 11\n",
        "vAlor = 12\n",
        "VALOR = 13\n",
        "print(\"\\t\", valor,\"\\n\", \"\\n\",Valor, \"\\n\",vAlor, \"\\n\", VALOR)\n"
      ],
      "execution_count": null,
      "outputs": [
        {
          "output_type": "stream",
          "text": [
            "5\n",
            "10\n",
            "\t 10 \n",
            " \n",
            " 11 \n",
            " 12 \n",
            " 13\n"
          ],
          "name": "stdout"
        }
      ]
    },
    {
      "cell_type": "code",
      "metadata": {
        "id": "SxEz4XMtWtsH",
        "colab_type": "code",
        "colab": {
          "base_uri": "https://localhost:8080/",
          "height": 34
        },
        "outputId": "8d1e0ddc-5174-4bb4-fde8-2848a50c4de4"
      },
      "source": [
        "# Diferença entre atribuição e comparação \n",
        "x = 6 +1\n",
        "print( x == 6)\n",
        "\n"
      ],
      "execution_count": null,
      "outputs": [
        {
          "output_type": "stream",
          "text": [
            "False\n"
          ],
          "name": "stdout"
        }
      ]
    },
    {
      "cell_type": "code",
      "metadata": {
        "id": "LWDgI7rvWtsL",
        "colab_type": "code",
        "colab": {
          "base_uri": "https://localhost:8080/",
          "height": 102
        },
        "outputId": "8f6d70da-ea18-48bc-da73-80ed23e1f8ec"
      },
      "source": [
        "#Exercício 02\n",
        "x = 1\n",
        "X = 2\n",
        "\n",
        "print(\"Python diferencia entre letras maiúsculas e minúsculas?\")\n",
        "print(\"Qual é o valor da variável x?\")\n",
        "print(\"A variável x é igual a \", x)\n",
        "print(\"Qual é o valor da variável X?\")\n",
        "print(\"A variável X é igual a \", X)"
      ],
      "execution_count": null,
      "outputs": [
        {
          "output_type": "stream",
          "text": [
            "Python diferencia entre letras maiúsculas e minúsculas?\n",
            "Qual é o valor da variável x?\n",
            "A variável x é igual a  1\n",
            "Qual é o valor da variável X?\n",
            "A variável X é igual a  2\n"
          ],
          "name": "stdout"
        }
      ]
    },
    {
      "cell_type": "code",
      "metadata": {
        "id": "n7IuseK8WtsT",
        "colab_type": "code",
        "colab": {}
      },
      "source": [
        "# Exercício 03\n",
        "print(\"Reescreva o Exercício 01 utilizando variáveis\")\n",
        "valor = \n",
        "taxa_juros = \n",
        "anos = \n",
        "dívida = \n",
        "print(divida)"
      ],
      "execution_count": null,
      "outputs": []
    },
    {
      "cell_type": "code",
      "metadata": {
        "id": "PWxgWvwhWtsa",
        "colab_type": "code",
        "colab": {}
      },
      "source": [
        "# Exercício 04\n",
        "print(\"Calcule o Índice de Massa Copórea (IMC)\")\n",
        "\n",
        "cabelo = .1\n",
        "barba = .4\n",
        "salto_do_sapato = 5\n",
        "peso = 80 + cabelo + barba\n",
        "altura = 1.83 + salto_do_sapato\n",
        "\n",
        "IMC = peso /altura**2\n",
        "\n",
        "print(IMC)"
      ],
      "execution_count": null,
      "outputs": []
    },
    {
      "cell_type": "markdown",
      "metadata": {
        "id": "CEuO14piWtsi",
        "colab_type": "text"
      },
      "source": [
        "### Tipos de vaiáveis em Python\n",
        "\n",
        "Os tipos das variáveis são definidos dinamicamente em Python.\n",
        "- Tipos Básicos em Python\n",
        "    - int --> Inteiro\n",
        "    - flot --> ponto flutuante\n",
        "    - str --> String\n",
        "    - bool --> Booleano (True, False)"
      ]
    },
    {
      "cell_type": "code",
      "metadata": {
        "id": "se2Qt05GWtsj",
        "colab_type": "code",
        "colab": {}
      },
      "source": [
        "# Exercício 05\n",
        "Nome_aluno = \"Isabel Nunes\"\n",
        "nota = 9.8\n",
        "bom_aluno = True\n",
        "idade = 21 + 22  # o tempo não para, kkk\n",
        "\n",
        "print(\"Escreva no console os valores dessas variáveis\")\n",
        "# escreva o restante do programa ....\n",
        "\n",
        "print(\"A aluna \", Nome_aluno,\" tem \", idade,\"de idade e tirou \", nota, \"em programação Python.\\n\")\n"
      ],
      "execution_count": null,
      "outputs": []
    },
    {
      "cell_type": "code",
      "metadata": {
        "id": "cGJh7hx7efHm",
        "colab_type": "code",
        "colab": {}
      },
      "source": [
        ""
      ],
      "execution_count": null,
      "outputs": []
    },
    {
      "cell_type": "code",
      "metadata": {
        "id": "5g5mu0KRWtss",
        "colab_type": "code",
        "colab": {}
      },
      "source": [
        "# Exercício 06\n",
        "print(\"O que ocorre se se somar um int com um float?\")\n",
        "a = 2\n",
        "b = 1.1\n",
        "c = a+b\n",
        "print(c)"
      ],
      "execution_count": null,
      "outputs": []
    },
    {
      "cell_type": "code",
      "metadata": {
        "id": "VYyS1Tm5Wts8",
        "colab_type": "code",
        "colab": {
          "base_uri": "https://localhost:8080/",
          "height": 68
        },
        "outputId": "6eec8b27-81a2-49e1-f0fc-33f852d95bce"
      },
      "source": [
        "# Exercício 07\n",
        "print(\"O que ocorre se se somar duas strings?\")\n",
        "Nome = \"Nathalie\" + \" \" + \"Rose\"\n",
        "Sobrenome = \"Araújo\"\n",
        "Nome_Completo = Nome + \" \" + Sobrenome\n",
        "print(Nome_Completo)\n",
        "Nome_Completo"
      ],
      "execution_count": null,
      "outputs": [
        {
          "output_type": "stream",
          "text": [
            "O que ocorre se se somar duas strings?\n",
            "Nathalie Rose Araújo\n"
          ],
          "name": "stdout"
        },
        {
          "output_type": "execute_result",
          "data": {
            "text/plain": [
              "'Nathalie Rose Araújo'"
            ]
          },
          "metadata": {
            "tags": []
          },
          "execution_count": 71
        }
      ]
    },
    {
      "cell_type": "code",
      "metadata": {
        "id": "X_b-itdLWttE",
        "colab_type": "code",
        "colab": {}
      },
      "source": [
        "# Exercício 08\n",
        "print(\"É possível somar um int com um str?\")\n",
        "Nome = \"Maria\"\n",
        "Idade = 18\n",
        "Nome + Idade"
      ],
      "execution_count": null,
      "outputs": []
    },
    {
      "cell_type": "code",
      "metadata": {
        "id": "vTpPpFk2WttP",
        "colab_type": "code",
        "colab": {}
      },
      "source": [
        "# Exercício 09\n",
        "# Use a função type(variavel) para obter o tipo da variável.\n",
        "x1 = 1\n",
        "x2 = \"aeiou\"\n",
        "x3 = False\n",
        "print(type(x1))\n",
        "print(type(x2))\n",
        "type(x3)"
      ],
      "execution_count": null,
      "outputs": []
    },
    {
      "cell_type": "markdown",
      "metadata": {
        "id": "F7KSKwVVWtta",
        "colab_type": "text"
      },
      "source": [
        "### Dica:\n",
        "Para se converter tipos em outros, em Python se utiliza as seguintes funções:\n",
        "- str(variavel) <-- converte variavel para string\n",
        "- int(variavel) <-- converte variavel para inteiro\n",
        "- float(variavel) <-- converte variavel para ponto flutuante\n",
        "- bool((variavel) <-- converte variavel para booleano"
      ]
    },
    {
      "cell_type": "code",
      "metadata": {
        "id": "LH3BBBMdWttc",
        "colab_type": "code",
        "colab": {}
      },
      "source": [
        "# Exercício 10\n",
        "# Escreva um programa que converta uma variável \"idade\" que é inteiro  em string.\n",
        "Idade = 22\n",
        "Nome = \"João \"\n",
        "# A saída de ser --> João tem 22 anos.\n",
        "print(Nome + str(Idade))"
      ],
      "execution_count": null,
      "outputs": []
    },
    {
      "cell_type": "markdown",
      "metadata": {
        "id": "7uBNZr89pBxb",
        "colab_type": "text"
      },
      "source": [
        "### Pergunta:\n",
        "Quando se lê uma variável via teclado, qual é o seu tipo?"
      ]
    },
    {
      "cell_type": "code",
      "metadata": {
        "id": "MV22YSjWpLR2",
        "colab_type": "code",
        "colab": {
          "base_uri": "https://localhost:8080/",
          "height": 85
        },
        "outputId": "4e6046e8-ef6f-4df9-f161-1dd778389800"
      },
      "source": [
        "print(\"entre com uma dado: \")\n",
        "variavel = input()\n",
        "print(variavel)\n",
        "type(variavel)\n"
      ],
      "execution_count": null,
      "outputs": [
        {
          "output_type": "stream",
          "text": [
            "entre com uma dado: \n",
            "1\n",
            "1\n"
          ],
          "name": "stdout"
        },
        {
          "output_type": "execute_result",
          "data": {
            "text/plain": [
              "str"
            ]
          },
          "metadata": {
            "tags": []
          },
          "execution_count": 72
        }
      ]
    },
    {
      "cell_type": "code",
      "metadata": {
        "id": "_GWuMoAnpuNv",
        "colab_type": "code",
        "colab": {
          "base_uri": "https://localhost:8080/",
          "height": 34
        },
        "outputId": "280305b5-3c55-4b9a-c5d0-f8e0f966fd21"
      },
      "source": [
        "# convertendo a variavel para inteior\n",
        "\n",
        "variavel = int(variavel)\n",
        "type(variavel)"
      ],
      "execution_count": null,
      "outputs": [
        {
          "output_type": "execute_result",
          "data": {
            "text/plain": [
              "int"
            ]
          },
          "metadata": {
            "tags": []
          },
          "execution_count": 73
        }
      ]
    },
    {
      "cell_type": "markdown",
      "metadata": {
        "id": "kdovl8_vRD8g",
        "colab_type": "text"
      },
      "source": [
        "### Programa desafio 1:\n",
        "\n",
        "Escreva um programa que solicite por antrada de teclado os seguintes valores de variáveis:\n",
        "- nome\n",
        "- altura\n",
        "-peso\n",
        "\n",
        "forneçao como saída o nome e o imc correspondente.\n",
        "\n",
        "Exemplo:\n",
        "Maria seu IMC é de 1.62"
      ]
    },
    {
      "cell_type": "code",
      "metadata": {
        "id": "yVSqPbw7RqG4",
        "colab_type": "code",
        "colab": {
          "base_uri": "https://localhost:8080/",
          "height": 136
        },
        "outputId": "cf9dd869-1150-45de-a313-069252dc4ff3"
      },
      "source": [
        "# Programa Desafio 1\n",
        "# Código\n",
        "\n",
        "print(\"por obséquio, forneça o seu nome? \")\n",
        "nome = input()\n",
        "\n",
        "print(\"Se não for inoportuno, foneçao o seu peso? manterie em sigilo\")\n",
        "peso = float(input())\n",
        "\n",
        "\n",
        "print(\"Qual é a sua altura? \")\n",
        "altura = input()\n",
        "altura = float(altura)\n",
        "\n",
        "\n",
        "IMC = peso /altura**2\n",
        "\n",
        "print(nome, \" o seu IMC é \", IMC)\n",
        "\n"
      ],
      "execution_count": null,
      "outputs": [
        {
          "output_type": "stream",
          "text": [
            "por obséquio, forneça o seu nome? \n",
            "Jadson\n",
            "Se não for inoportuno, foneçao o seu peso? manterie em sigilo\n",
            "53\n",
            "Qual é a sua altura? \n",
            "1.73\n",
            "Jadson  o seu IMC é  17.70857696548498\n"
          ],
          "name": "stdout"
        }
      ]
    },
    {
      "cell_type": "code",
      "metadata": {
        "id": "BxJ7uWykWtth",
        "colab_type": "code",
        "colab": {
          "base_uri": "https://localhost:8080/",
          "height": 34
        },
        "outputId": "3f6309cf-e389-48f2-90ae-216fab295ef0"
      },
      "source": [
        "# Curiosidade\n",
        "\"Eu sou \" + (\"ga\")*3 + \"go\"\n"
      ],
      "execution_count": null,
      "outputs": [
        {
          "output_type": "execute_result",
          "data": {
            "text/plain": [
              "'Eu sou gagagago'"
            ]
          },
          "metadata": {
            "tags": []
          },
          "execution_count": 77
        }
      ]
    },
    {
      "cell_type": "code",
      "metadata": {
        "id": "lwvGuxSsWttn",
        "colab_type": "code",
        "colab": {
          "base_uri": "https://localhost:8080/",
          "height": 51
        },
        "outputId": "e43b6a9d-4b8a-4925-c3e2-d360c24fa348"
      },
      "source": [
        "# Curiosidade\n",
        "print(\"Teste essas opções abaixo que estão em comentário\")\n",
        "#False + True\n",
        "#True + True\n",
        "True * 10\n",
        "#False - True"
      ],
      "execution_count": null,
      "outputs": [
        {
          "output_type": "stream",
          "text": [
            "Teste essas opções abaixo que estão em comentário\n"
          ],
          "name": "stdout"
        },
        {
          "output_type": "execute_result",
          "data": {
            "text/plain": [
              "10"
            ]
          },
          "metadata": {
            "tags": []
          },
          "execution_count": 84
        }
      ]
    },
    {
      "cell_type": "markdown",
      "metadata": {
        "id": "ewO5jUBzWtts",
        "colab_type": "text"
      },
      "source": [
        "### Tipo list\n",
        "- tipo complexo, que representa uma lista de outras variáveis, não necessariamente de mesmo tipos.\n",
        "- As variáveis podem ser listas. No caso, teremos listas de listas\n",
        "\n",
        "Exemplo:\n",
        "\n",
        "lista1 = [1,2,3]\n",
        "\n",
        "lista2 = [\"Maria\", \"1.66\", 22, True]  #[Nome, Altura, Idade, Boa_estudante]"
      ]
    },
    {
      "cell_type": "code",
      "metadata": {
        "id": "DZsgCGWPB0UI",
        "colab_type": "code",
        "colab": {
          "base_uri": "https://localhost:8080/",
          "height": 34
        },
        "outputId": "fb58d19c-1038-437a-da2b-6b0ac9a17538"
      },
      "source": [
        "lista2 = [\"Maria\", \"1.66\", 22, True]\n",
        "lista2"
      ],
      "execution_count": null,
      "outputs": [
        {
          "output_type": "execute_result",
          "data": {
            "text/plain": [
              "['Maria', '1.66', 22, True]"
            ]
          },
          "metadata": {
            "tags": []
          },
          "execution_count": 85
        }
      ]
    },
    {
      "cell_type": "code",
      "metadata": {
        "id": "_A9medfmWttt",
        "colab_type": "code",
        "colab": {
          "base_uri": "https://localhost:8080/",
          "height": 51
        },
        "outputId": "d88300df-8d34-42b5-b4bb-5462d062717d"
      },
      "source": [
        "# Lista com variáveis de mesmo tipo\n",
        "# Áreas dos cômodos (em metros quadrados)\n",
        "hall = 11.25\n",
        "kit = 18.0\n",
        "liv = 20.0\n",
        "bed = 10.75\n",
        "bath = 9.50\n",
        "\n",
        "# Criação da lista areas\n",
        "areas = [hall, kit, liv, bed, bath]\n",
        "\n",
        "# Print areas\n",
        "print(type(areas))\n",
        "print(areas)"
      ],
      "execution_count": null,
      "outputs": [
        {
          "output_type": "stream",
          "text": [
            "<class 'list'>\n",
            "[11.25, 18.0, 20.0, 10.75, 9.5]\n"
          ],
          "name": "stdout"
        }
      ]
    },
    {
      "cell_type": "code",
      "metadata": {
        "id": "3BrTc6sZWttz",
        "colab_type": "code",
        "colab": {
          "base_uri": "https://localhost:8080/",
          "height": 54
        },
        "outputId": "4b03002a-8298-48c2-d129-e429e59cc2b2"
      },
      "source": [
        "# Lista com variáveis de diferentes tipos\n",
        "# Áreas dos cômodos (em metros quadrados)\n",
        "hall = 11.25\n",
        "kit = 18.0\n",
        "liv = 20.0\n",
        "bed = 10.75\n",
        "bath = 9.50\n",
        "\n",
        "# Criação da lista areas\n",
        "areas = [\"hallway\", hall, \"kitchen\", kit, \"living room\", liv, \"bedroom\", bed, \"bathroom\", bath]\n",
        "\n",
        "# Print areas\n",
        "print(areas)\n"
      ],
      "execution_count": null,
      "outputs": [
        {
          "output_type": "stream",
          "text": [
            "['hallway', 11.25, 'kitchen', 18.0, 'living room', 20.0, 'bedroom', 10.75, 'bathroom', 9.5]\n"
          ],
          "name": "stdout"
        }
      ]
    },
    {
      "cell_type": "code",
      "metadata": {
        "id": "VXNk5gNsWtt7",
        "colab_type": "code",
        "colab": {
          "base_uri": "https://localhost:8080/",
          "height": 71
        },
        "outputId": "47131625-df3f-464b-ac2d-0f0d685f511c"
      },
      "source": [
        "# Lista de Lista\n",
        "# variáveis de área variables (em metro quadrado)\n",
        "hall = 11.25\n",
        "kit = 18.0\n",
        "liv = 20.0\n",
        "bed = 10.75\n",
        "bath = 9.50\n",
        "\n",
        "# informação sobre metragem da casa como lista de lista\n",
        "house = [[\"hallway\", hall],\n",
        "         [\"kitchen\", kit],\n",
        "         [\"living room\", liv],\n",
        "         [\"bedroom\", bed],\n",
        "         [\"bathroom\", bath]\n",
        "         ]\n",
        "\n",
        "# Print a variaável house\n",
        "\n",
        "print(house)\n",
        "\n",
        "# Print o tipo da variável house\n",
        "\n",
        "print(type(house))"
      ],
      "execution_count": null,
      "outputs": [
        {
          "output_type": "stream",
          "text": [
            "[['hallway', 11.25], ['kitchen', 18.0], ['living room', 20.0], ['bedroom', 10.75], ['bathroom', 9.5]]\n",
            "<class 'list'>\n"
          ],
          "name": "stdout"
        }
      ]
    },
    {
      "cell_type": "code",
      "metadata": {
        "id": "IBJ34-nOWtuD",
        "colab_type": "code",
        "colab": {
          "base_uri": "https://localhost:8080/",
          "height": 54
        },
        "outputId": "465407a2-b04c-459c-e646-cd05242f3066"
      },
      "source": [
        "# Exercício 11\n",
        "# Crie 01 lista Familia, que é composta por 04 listas: Pai, Mae, Filho, Filha.\n",
        "# Essas listas têm as variáveis Nome (str), Idade (int), Peso (float), Altura (float)\n",
        "#sexo (bool) True-feminino, False-Masculino\n",
        "Pai = [\"Joao\",56,83.2,1.72,False]\n",
        "Mae = [\"Maria\",48,65.1,1.63,True]\n",
        "Filho = [\"William\",26,81.1,1.71,False]\n",
        "Filha = [\"Fernanda\",19,56.8,1.74,True]\n",
        "\n",
        "Familia = [Mae, Pai,Filho,Filha]\n",
        "print(Familia)"
      ],
      "execution_count": null,
      "outputs": [
        {
          "output_type": "stream",
          "text": [
            "[['Maria', 48, 65.1, 1.63, True], ['Joao', 56, 83.2, 1.72, False], ['William', 26, 81.1, 1.71, False], ['Fernanda', 19, 56.8, 1.74, True]]\n"
          ],
          "name": "stdout"
        }
      ]
    },
    {
      "cell_type": "code",
      "metadata": {
        "id": "ebBimdA9Db6c",
        "colab_type": "code",
        "colab": {
          "base_uri": "https://localhost:8080/",
          "height": 153
        },
        "outputId": "0f933147-ac0c-493a-ccdc-41544427b582"
      },
      "source": [
        "print(Pai[0])\n",
        "print(Filha[2])\n",
        "print(Familia[0])\n",
        "print(Familia[0][1])\n",
        "print(Familia[1][3])\n",
        "\n",
        "Nomes = [Familia[0][0], Familia[1][0], Familia[2][0],Familia[3][0]]\n",
        "Sexos = [Familia[0][-1], Familia[1][-1], Familia[2][-1],Familia[3][-1]]\n",
        "print(Nomes)\n",
        "print(Sexos)\n",
        "Soma_da_Idades = Familia[0][4] + Familia[1][4] + Familia[2][4] + Familia[3][4]\n",
        "print(Soma_da_Idades)\n",
        "\n",
        "\n"
      ],
      "execution_count": null,
      "outputs": [
        {
          "output_type": "stream",
          "text": [
            "Joao\n",
            "56.8\n",
            "['Maria', 48, 65.1, 1.63, True]\n",
            "48\n",
            "1.72\n",
            "['Maria', 'Joao', 'William', 'Fernanda']\n",
            "[True, False, False, True]\n",
            "2\n"
          ],
          "name": "stdout"
        }
      ]
    },
    {
      "cell_type": "markdown",
      "metadata": {
        "id": "d1n1FsUyWtuK",
        "colab_type": "text"
      },
      "source": [
        "Acessado elementos de uma lista\n",
        "- list[n]  --> retorna a variável da posição n. O primeiro índice é o ZERO\n",
        "- list[n1:n2] --> retorna uma sub-lista da posição n1 até a posição n2-1\n",
        "- list[:n] --> retorna uma sub-lista da posição ZERO até n-1\n",
        "- list[n:] --> retorna uma sub-lista da posição n até o final da lista"
      ]
    },
    {
      "cell_type": "code",
      "metadata": {
        "id": "4f4tiyZfWtuN",
        "colab_type": "code",
        "colab": {}
      },
      "source": [
        "# Exemplos\n",
        "lista = [0,1,2,3,4,5]\n",
        "print(lista[0])\n",
        "print(lista[2])\n",
        "#print(lista[7])\n",
        "print(lista[-1])\n",
        "print(lista[-2])\n",
        "print(lista[1:3])\n",
        "print(lista[1:4])\n",
        "print(lista[1:2])\n",
        "print(lista[:3])\n",
        "print(lista[:])\n",
        "print(lista[-5:3])\n",
        "print(lista[-5:1])"
      ],
      "execution_count": null,
      "outputs": []
    },
    {
      "cell_type": "code",
      "metadata": {
        "id": "i9HgHM-9WtuX",
        "colab_type": "code",
        "colab": {}
      },
      "source": [
        "#Exercício 12\n",
        "\n",
        "# Criação da lista areas\n",
        "areas = [\"hallway\", 11.25, \"kitchen\", 18.0, \"living room\", 20.0, \"bedroom\", 10.75, \"bathroom\", 9.50]\n",
        "\n",
        "# Print o segundo elemento da lista\n",
        "print(areas[1])\n",
        "\n",
        "# Print o valor do último elemnto da lista\n",
        "print(areas[6])\n",
        "\n",
        "# Print o valor da área do living room\n",
        "print(areas[5])\n",
        "\n",
        "# Print o valor da área total da casa \n",
        "print(areas[1]+areas[3]+areas[5])"
      ],
      "execution_count": null,
      "outputs": []
    },
    {
      "cell_type": "code",
      "metadata": {
        "id": "bIaW7WSbWtud",
        "colab_type": "code",
        "colab": {
          "base_uri": "https://localhost:8080/",
          "height": 85
        },
        "outputId": "da658ffe-2136-4fe0-a367-62b61a141ae0"
      },
      "source": [
        "# Dica\n",
        "x = [[\"a\", \"b\", \"c\"],\n",
        "     [\"d\", \"e\", \"f\"],\n",
        "     [\"g\", \"h\", \"i\"]]\n",
        "print(x[2][0])\n",
        "print(x[2][:2])\n",
        "print(x[0][-1],x[1][:2])\n",
        "x[0][2]+x[0][0]+x[1][0]+x[1][1]"
      ],
      "execution_count": null,
      "outputs": [
        {
          "output_type": "stream",
          "text": [
            "g\n",
            "['g', 'h']\n",
            "c ['d', 'e']\n"
          ],
          "name": "stdout"
        },
        {
          "output_type": "execute_result",
          "data": {
            "text/plain": [
              "'cade'"
            ]
          },
          "metadata": {
            "tags": []
          },
          "execution_count": 126
        }
      ]
    },
    {
      "cell_type": "code",
      "metadata": {
        "id": "It25Np4hWtuk",
        "colab_type": "code",
        "colab": {}
      },
      "source": [
        "#Exercício 13 - Homework\n",
        "# Dado o Exercício 11.\n",
        "# Crie uma lista denominada de Nomes que contenha os nomes do Pai, Mae, Filho e Filha da lista Familia\n",
        "\n",
        "nomes = \n",
        "nomes"
      ],
      "execution_count": null,
      "outputs": []
    },
    {
      "cell_type": "code",
      "metadata": {
        "id": "qEdJQD1pWtur",
        "colab_type": "code",
        "colab": {}
      },
      "source": [
        "#Exercício 14 - Homework\n",
        "# Dado o Exercício 11.\n",
        "# Crie uma lista denominada de Filhos que contenha apenas as informações de Filho e Filha da lista Familia\n"
      ],
      "execution_count": null,
      "outputs": []
    },
    {
      "cell_type": "code",
      "metadata": {
        "id": "jYzv1ZNRWtux",
        "colab_type": "code",
        "colab": {}
      },
      "source": [
        "#Exercício 15 - Homework\n",
        "# Dado o Exercício 11.\n",
        "# Calcule IMC das pessoas da lista Familia.\n",
        "# Armazene esses valores numa lista denominada de valor_IMC\n",
        "#????\n"
      ],
      "execution_count": null,
      "outputs": []
    },
    {
      "cell_type": "markdown",
      "metadata": {
        "id": "0SqbqnesWtvB",
        "colab_type": "text"
      },
      "source": [
        "Modificar elementos de uma lista\n",
        "- lista[elemento] = novo_valor\n",
        "\n",
        "Incluir elementos em lista (concatenar duas ou mais listas)\n",
        "- lista3 = lista1 + lista3\n",
        "\n",
        "Remover Elementos em Lista\n",
        "- del(lista[elemento])"
      ]
    },
    {
      "cell_type": "code",
      "metadata": {
        "id": "uCB0VcoYVAhV",
        "colab_type": "code",
        "colab": {}
      },
      "source": [
        "# Exemplo com listas\n",
        "lista1 = [1,1,1]\n",
        "lista2 =[2,2,2]\n",
        "lista3 = lista1 + lista2\n",
        "\n"
      ],
      "execution_count": null,
      "outputs": []
    },
    {
      "cell_type": "code",
      "metadata": {
        "id": "maCwgIELVeC0",
        "colab_type": "code",
        "colab": {
          "base_uri": "https://localhost:8080/",
          "height": 85
        },
        "outputId": "ac612aeb-2621-42d2-c49f-0bef18871b68"
      },
      "source": [
        "# Exemplo com lista - continuação\n",
        "print(\"lista3: \", lista3)\n",
        "print(\"lista3[2]: \", lista3[2])\n",
        "\n",
        "# remover um elemento da lista3\n",
        "del(lista3[2:4])\n",
        "print(\"lista3: \", lista3)\n",
        "print(\"lista3[2]: \", lista3[2])"
      ],
      "execution_count": null,
      "outputs": [
        {
          "output_type": "stream",
          "text": [
            "lista3:  [1, 1, 1, 2, 2, 2]\n",
            "lista3[2]:  1\n",
            "lista3:  [1, 1, 2, 2]\n",
            "lista3[2]:  2\n"
          ],
          "name": "stdout"
        }
      ]
    },
    {
      "cell_type": "code",
      "metadata": {
        "id": "bBMdNeavWtvR",
        "colab_type": "code",
        "colab": {}
      },
      "source": [
        "# Exercício 16\n",
        "# Remova pela ordem a string \"poolhouse\" e o valor de sua área\n",
        "areas = [\"hallway\", 11.25, \"kitchen\", 18.0,\n",
        "        \"child zone\", 20.0, \"bedroom\", 10.75,\n",
        "         \"bathroom\", 10.50, \"poolhouse\", 24.5,\n",
        "         \"garage\", 15.45]\n",
        "del(areas[10:12])\n",
        "#del(areas[10])\n",
        "print(areas)"
      ],
      "execution_count": null,
      "outputs": []
    },
    {
      "cell_type": "code",
      "metadata": {
        "id": "Yxc9vMtzWtvD",
        "colab_type": "code",
        "colab": {}
      },
      "source": [
        "# Exercício 17 - Homework\n",
        "# Dado o Exercício 11\n",
        "# Inclua mais um filho, denominado Filho2 na lista Familia\n",
        "\n",
        "print(Familia)"
      ],
      "execution_count": null,
      "outputs": []
    },
    {
      "cell_type": "code",
      "metadata": {
        "id": "z_w1bQqyWtvM",
        "colab_type": "code",
        "colab": {}
      },
      "source": [
        "# Exercício 18 - Homework\n",
        "# Dado o Exercício 11\n",
        "# Remova Filho da lista Familia\n",
        "# O que ocorre com os índices da lista Familia?\n",
        "\n",
        "print(Familia)"
      ],
      "execution_count": null,
      "outputs": []
    },
    {
      "cell_type": "code",
      "metadata": {
        "id": "sbRECfP2XVwc",
        "colab_type": "code",
        "colab": {}
      },
      "source": [
        "#Exercício 19 - Homework\n",
        "# Dado o Exercício 11.\n",
        "# Calcule IMC das pessoas da lista Familia, e inclua essa informação na lista Família\n",
        "#????"
      ],
      "execution_count": null,
      "outputs": []
    },
    {
      "cell_type": "markdown",
      "metadata": {
        "id": "zxq1iF5pWc3B",
        "colab_type": "text"
      },
      "source": [
        "### Atenção\n",
        " - Há difença entre atribuição e cópia de listas."
      ]
    },
    {
      "cell_type": "code",
      "metadata": {
        "id": "-UH1Hy5LWtvb",
        "colab_type": "code",
        "colab": {}
      },
      "source": [
        "# Cópia de lista: diferença entre atribuição e cópia de listas\n",
        "# Criação de lista\n",
        "lista1 = [11.25, 18.0, 20.0, 10.75, 9.50]\n",
        "\n",
        "# Atribuição e copia de listas\n",
        "#lista2 = lista1\n",
        "lista2 = list(lista1)\n",
        "#lista2 = lista1[:]\n",
        "\n",
        "# Modificação na lista\n",
        "lista2[0] = 5.0\n",
        "\n",
        "# Print lista1\n",
        "print(lista1)"
      ],
      "execution_count": null,
      "outputs": []
    },
    {
      "cell_type": "markdown",
      "metadata": {
        "id": "rbT0GXsDWtvk",
        "colab_type": "text"
      },
      "source": [
        "## Usando Função em Python\n",
        "- Há diversas funções úteis já disponíveis em Python\n",
        "    - type(variavel)\n",
        "    - print(variavel)\n",
        "    - str(variavel); float(variavel); ...\n",
        "    - max(variavel)\n",
        "    - min(variavel)\n",
        "    - mean(variavel)\n",
        "    - round(valor,precisao), round(valor)\n",
        "    - complex(valor)\n",
        "    - sorted(iterable, key, reverse)\n",
        "    - help(funcao)"
      ]
    },
    {
      "cell_type": "code",
      "metadata": {
        "id": "9jnsakiiWtvm",
        "colab_type": "code",
        "colab": {}
      },
      "source": [
        "# Exemplos\n",
        "# Criar variáveis var1 e var2\n",
        "var1 = [1, 2, 3, 4]\n",
        "var2 = True\n",
        "\n",
        "# Print tipo (type) de var1\n",
        "print(type(var1))\n",
        "\n",
        "# Print o tamanho de var1\n",
        "print(len(var1))\n",
        "\n",
        "# Print o máximo var1\n",
        "print(max(var1))\n",
        "\n",
        "# Print o mínimo var1\n",
        "print(min(var1))\n",
        "\n",
        "# Print a soma var1\n",
        "print(sum(var1))\n",
        "\n",
        "# Print média var1\n",
        "print(sum(var1)/len(var1))\n",
        "\n",
        "# Converter var2 para um inteiro: out2\n",
        "out2 = int(var2)"
      ],
      "execution_count": null,
      "outputs": []
    },
    {
      "cell_type": "code",
      "metadata": {
        "id": "v2dxg-PtWtvu",
        "colab_type": "code",
        "colab": {}
      },
      "source": [
        "help(min)"
      ],
      "execution_count": null,
      "outputs": []
    },
    {
      "cell_type": "code",
      "metadata": {
        "id": "uVkGXITqWtv2",
        "colab_type": "code",
        "colab": {}
      },
      "source": [
        "?max"
      ],
      "execution_count": null,
      "outputs": []
    },
    {
      "cell_type": "code",
      "metadata": {
        "id": "2E6SnXewWtwB",
        "colab_type": "code",
        "colab": {
          "base_uri": "https://localhost:8080/",
          "height": 34
        },
        "outputId": "7d830029-0c0b-4501-9452-25dd24afd480"
      },
      "source": [
        "# Teste essas opções e conclua com funciona o número complexo\n",
        "complex()\n",
        "complex(1)\n",
        "complex(1,2)"
      ],
      "execution_count": null,
      "outputs": [
        {
          "output_type": "execute_result",
          "data": {
            "text/plain": [
              "(1+2j)"
            ]
          },
          "metadata": {
            "tags": []
          },
          "execution_count": 147
        }
      ]
    },
    {
      "cell_type": "code",
      "metadata": {
        "id": "fTkMoZc0WtwH",
        "colab_type": "code",
        "colab": {}
      },
      "source": [
        "# Execute o comando help()\n",
        "help(sorted)"
      ],
      "execution_count": null,
      "outputs": []
    },
    {
      "cell_type": "code",
      "metadata": {
        "id": "sKdxe_c0WtwS",
        "colab_type": "code",
        "colab": {
          "base_uri": "https://localhost:8080/",
          "height": 51
        },
        "outputId": "4a581011-8b7a-4029-ea1c-fcf791fa574f"
      },
      "source": [
        "# Exemplo\n",
        "# Criar duas listas:first e second\n",
        "first = [11.25, 18.0, 20.0]\n",
        "second = [10.75, 9.50]\n",
        "\n",
        "# Unir as duas listas na lista full\n",
        "full = first + second\n",
        "print(full)\n",
        "\n",
        "# Ordenar a lista full em ordem decrscente e armazenar o resultado na lista full_sorted\n",
        "full_sorted = sorted(full, reverse = True)\n",
        "#full_sorted = sorted(full)\n",
        "\n",
        "# Print a lista full_sorted\n",
        "print(full_sorted)\n",
        "\n",
        "# Investigue se não se utilizar o parâmetro reserve\n",
        "\n",
        "# Qual é a utilidade do parâmetro key?"
      ],
      "execution_count": null,
      "outputs": [
        {
          "output_type": "stream",
          "text": [
            "[11.25, 18.0, 20.0, 10.75, 9.5]\n",
            "[20.0, 18.0, 11.25, 10.75, 9.5]\n"
          ],
          "name": "stdout"
        }
      ]
    },
    {
      "cell_type": "markdown",
      "metadata": {
        "id": "AU8CIrdHWtwd",
        "colab_type": "text"
      },
      "source": [
        "### Lembrete:\n",
        "Em Python, todos os tipos de variáveis são classe.\n",
        "- As variáveis são objetos de classes específicas\n",
        "\n",
        "Assim, todas as variáveis possuem métodos específicos.\n",
        "- Os métodos são funções pertencentes a objetos\n",
        "\n",
        "Para acessar métodos, devemos utilizar a seguinte sintase:\n",
        "- variavel.metodo(parametros)"
      ]
    },
    {
      "cell_type": "markdown",
      "metadata": {
        "id": "J4hnxQzXWtwi",
        "colab_type": "text"
      },
      "source": [
        "Métodos da classe String\n",
        "\n",
        "- As strings possuem com um monte de métodos específicos.\n",
        "- Para verificar mais detalhadamente, você sempre pode digitar help (str) no IPython Shell."
      ]
    },
    {
      "cell_type": "code",
      "metadata": {
        "id": "e_Z-QSufWtwl",
        "colab_type": "code",
        "colab": {}
      },
      "source": [
        "# Exemplo\n",
        "# string room\n",
        "room = \"poolhouse\"\n",
        "\n",
        "# Use o método upper() sobre a string room. Armazene a resposta em room_up\n",
        "room_up = room.upper()\n",
        "\n",
        "# Print as strings room e room_up\n",
        "print(room)\n",
        "print(room_up)\n",
        "\n",
        "# Print o número de ocorrência da letra \"o\" na string room\n",
        "print(room.count(\"o\"))"
      ],
      "execution_count": null,
      "outputs": []
    },
    {
      "cell_type": "code",
      "metadata": {
        "id": "e1JebusTWtws",
        "colab_type": "code",
        "colab": {}
      },
      "source": [
        "Alguns métodos de Listas\n",
        "- lista.index(parametro)\n",
        "- lista(count(parametro))\n",
        "- append()\n",
        "- remove(), remove o primeiro elemento da lista que casa com o parâmetro\n",
        "- reversed(), reverte a ordem dos elementos\n"
      ],
      "execution_count": null,
      "outputs": []
    },
    {
      "cell_type": "code",
      "metadata": {
        "id": "4G0rf8EsWtww",
        "colab_type": "code",
        "colab": {}
      },
      "source": [
        "frase = \"socorram me subi no onibus em marrocos\"\n",
        "print(frase[::-1])\n",
        "frase1 = \"o po de cocaina mata maniaco cedo po\"\n",
        "print(frase1[::-1])"
      ],
      "execution_count": null,
      "outputs": []
    },
    {
      "cell_type": "code",
      "metadata": {
        "id": "ImPbsFJXWtwy",
        "colab_type": "code",
        "colab": {}
      },
      "source": [
        "# Criar a lista areas\n",
        "areas = [11.25, 18.0, 20.0, 10.75, 9.50]\n",
        "\n",
        "# Print o índice do elemento 20.0 na lista\n",
        "print(areas.index(20.0))\n",
        "\n",
        "# Print a quantidade de vezes que 14.5 apareace em areas\n",
        "\n",
        "print(areas.count(14.5))"
      ],
      "execution_count": null,
      "outputs": []
    },
    {
      "cell_type": "code",
      "metadata": {
        "id": "UzSK-0_bWtw-",
        "colab_type": "code",
        "colab": {}
      },
      "source": [
        "# Exercício 19 Homework\n",
        "#Criar a lista areas\n",
        "areas = [11.25, 18.0, 20.0, 10.75, 9.50]\n",
        "\n",
        "# Use o método append duas vezes para incluir os valores 24.5 e 15.45 no final da lista areas\n",
        "\n",
        "???????\n",
        "\n",
        "# Print a lista areas\n",
        "?????\n",
        "\n",
        "# Invera a ordem dos elementos na lista areas via o método reserve\n",
        "?????\n",
        "\n",
        "# Print a lista areas\n",
        "print(areas)"
      ],
      "execution_count": null,
      "outputs": []
    },
    {
      "cell_type": "markdown",
      "metadata": {
        "id": "MzdUF61uWtxE",
        "colab_type": "text"
      },
      "source": [
        "## Módulos em Python\n",
        "- Modulos agrupam funções, métodos e tipos específicos\n",
        "\n",
        "Pacotes são implementações Módulos disponíveis em Python \n",
        "- Há centenas de pacotes disponíveis em Python.\n",
        "\n",
        "Importação de Pacotes em Python (importa todo o pacote)\n",
        "- import pacote_desejado\n",
        "- import math\n",
        "\n",
        "Para usar funções do pacotes:\n",
        "- pacote_desejado.metodo_desejado(parametros)\n",
        "- pacote_desejado.variavel_desejada\n",
        "- math.pi\n",
        "\n",
        "Para importar apenas um módulo específico de um pacote, utilizamos:\n",
        "- from pacote_desejado import modulo_desejado\n",
        "\n",
        "Exemplo: importa só o pacote sqrt do pacote math\n",
        "\n",
        "- from math import sqrt    \n",
        "- print(sqrt(25))\n",
        "\n",
        "Ao utilizar \"from package import item\", o item pode ser um subpacote, submódulo, classe, função ou variável."
      ]
    },
    {
      "cell_type": "code",
      "metadata": {
        "id": "GPjXmEEKWtxF",
        "colab_type": "code",
        "colab": {
          "base_uri": "https://localhost:8080/",
          "height": 51
        },
        "outputId": "5a725b5b-267f-4d3f-8298-8b3e4b820c3f"
      },
      "source": [
        "# Exemplo\n",
        "# Importar pacote math \n",
        "import math\n",
        "\n",
        "# Definição de raio\n",
        "r = 0.43\n",
        "\n",
        "\n",
        "# Cálculo de C\n",
        "C = 2 * r * math.pi\n",
        "\n",
        "# Cálculo de A\n",
        "A = math.pi * r ** 2\n",
        "\n",
        "# print valores da Circunferência e Área\n",
        "print(\"Circunferência: \" + str(C))\n",
        "print(\"Área: \" , A)"
      ],
      "execution_count": null,
      "outputs": [
        {
          "output_type": "stream",
          "text": [
            "Circunferência: 2.701769682087222\n",
            "Área: %f 0.5808804816487527\n"
          ],
          "name": "stdout"
        }
      ]
    },
    {
      "cell_type": "code",
      "metadata": {
        "id": "-iKw2qgxWtxJ",
        "colab_type": "code",
        "colab": {}
      },
      "source": [
        "dir(math)"
      ],
      "execution_count": null,
      "outputs": []
    },
    {
      "cell_type": "code",
      "metadata": {
        "id": "VBsdcA05WtxO",
        "colab_type": "code",
        "colab": {
          "base_uri": "https://localhost:8080/",
          "height": 34
        },
        "outputId": "100a5793-1a6d-4f8e-e132-947649d978e1"
      },
      "source": [
        "# Exemplo\n",
        "# Definição do raio\n",
        "r = 192500\n",
        "\n",
        "# Importar apenas a função radians do pacote math\n",
        "from math import radians \n",
        "\n",
        "# Calcular o arco correspondente a 12 graus.\n",
        "\n",
        "arco = r* radians(12)\n",
        "\n",
        "# Print o valor de arco\n",
        "print(arco)"
      ],
      "execution_count": null,
      "outputs": [
        {
          "output_type": "stream",
          "text": [
            "40317.10572106901\n"
          ],
          "name": "stdout"
        }
      ]
    },
    {
      "cell_type": "code",
      "metadata": {
        "id": "_aUREtLMWtxX",
        "colab_type": "code",
        "colab": {
          "base_uri": "https://localhost:8080/",
          "height": 34
        },
        "outputId": "7b3612c0-4763-4425-dd46-0882b7f9345e"
      },
      "source": [
        "# Exemplo\n",
        "# Definição do raio\n",
        "r = 192500\n",
        "\n",
        "# Importar apenas a função radians do pacote math, redefinindo o nome da função\n",
        "from math import radians as francisco\n",
        "\n",
        "# Calcular o arco correspondente a 12 graus.\n",
        "\n",
        "arco = r* francisco(12)\n",
        "\n",
        "# Print o valor de arco\n",
        "print(arco)"
      ],
      "execution_count": null,
      "outputs": [
        {
          "output_type": "stream",
          "text": [
            "40317.10572106901\n"
          ],
          "name": "stdout"
        }
      ]
    },
    {
      "cell_type": "markdown",
      "metadata": {
        "id": "vRZhUmX1Wtxd",
        "colab_type": "text"
      },
      "source": [
        "Alguns exemplos de funções matemáticas:\n",
        "- import math\n"
      ]
    },
    {
      "cell_type": "code",
      "metadata": {
        "id": "glAsihQcWtxe",
        "colab_type": "code",
        "colab": {
          "base_uri": "https://localhost:8080/",
          "height": 102
        },
        "outputId": "9f913201-818c-448a-b04c-d7188a2ad8e9"
      },
      "source": [
        "#Exemplos de Uso\n",
        "import math\n",
        "print(math.exp(1.0))\n",
        "print(math.pi)\n",
        "print(math.e)\n",
        "print(math.cos( math.pi))\n",
        "teta = 0.7\n",
        "y = math.sin(teta) ** 2 + math.cos(teta) ** 2\n",
        "print(y)"
      ],
      "execution_count": null,
      "outputs": [
        {
          "output_type": "stream",
          "text": [
            "2.718281828459045\n",
            "3.141592653589793\n",
            "2.718281828459045\n",
            "-1.0\n",
            "1.0\n"
          ],
          "name": "stdout"
        }
      ]
    },
    {
      "cell_type": "markdown",
      "metadata": {
        "id": "FLqPhjveWtxr",
        "colab_type": "text"
      },
      "source": [
        "##  Comando de Controle de Fluxo\n",
        "- If\n",
        "\n",
        "    if (condição_lógica):\n",
        "         comando_1\n",
        "         comando_2\n",
        "         ...\n",
        "         comando_n\n",
        "         \n"
      ]
    },
    {
      "cell_type": "markdown",
      "metadata": {
        "id": "odpQMzYVWtxs",
        "colab_type": "text"
      },
      "source": [
        "- If-then-Else\n",
        "\n",
        "    if (condição_lógica):\n",
        "         comando_1\n",
        "         comando_2\n",
        "         ...\n",
        "         comando_n\n",
        "     else:\n",
        "         comando_k1\n",
        "         comando_k2\n",
        "         ...\n",
        "         comando_kn"
      ]
    },
    {
      "cell_type": "markdown",
      "metadata": {
        "id": "Uihql0-0Wtxv",
        "colab_type": "text"
      },
      "source": [
        "Descubra o erro do programa abaixo"
      ]
    },
    {
      "cell_type": "code",
      "metadata": {
        "id": "nitAEIyPWtxx",
        "colab_type": "code",
        "colab": {
          "base_uri": "https://localhost:8080/",
          "height": 34
        },
        "outputId": "df7c0325-5344-4625-c7af-feed8f9504d5"
      },
      "source": [
        "# Exemplo de uso do comando if\n",
        "\n",
        "a = 11\n",
        "if (a > 0):\n",
        " print (\"a é positivo \")"
      ],
      "execution_count": null,
      "outputs": [
        {
          "output_type": "stream",
          "text": [
            "a é positivo \n"
          ],
          "name": "stdout"
        }
      ]
    },
    {
      "cell_type": "code",
      "metadata": {
        "id": "qWCLZ4WlWtyD",
        "colab_type": "code",
        "colab": {}
      },
      "source": [
        "# Exemplo  de uso do comando if\n",
        "a = -1\n",
        "if a > 0:\n",
        " print (\"a é positivo \")\n",
        "print(\"Identação é FUNDAMENTAL em Python\")"
      ],
      "execution_count": null,
      "outputs": []
    },
    {
      "cell_type": "code",
      "metadata": {
        "id": "jjzFHo89WtyN",
        "colab_type": "code",
        "colab": {
          "base_uri": "https://localhost:8080/",
          "height": 34
        },
        "outputId": "b13ec38c-041a-4f60-cb6c-3fbd23468710"
      },
      "source": [
        "# Exemplo de uso do comando if-else\n",
        "a = -34\n",
        "if a > 0:\n",
        "  print (\"O valor de a é positivo\")\n",
        "else :\n",
        "  print (\"O valor de a não é positivo\")\n"
      ],
      "execution_count": null,
      "outputs": [
        {
          "output_type": "stream",
          "text": [
            "O valor de a não é positivo\n"
          ],
          "name": "stdout"
        }
      ]
    },
    {
      "cell_type": "code",
      "metadata": {
        "id": "TPLZ6WLeWtyQ",
        "colab_type": "code",
        "colab": {
          "base_uri": "https://localhost:8080/",
          "height": 34
        },
        "outputId": "b34d2c40-2cb7-4e71-cfc5-3a8c6fb8a78a"
      },
      "source": [
        "# Exemplo de uso do comando if-elif-else\n",
        "a = 10\n",
        "if a == 0:\n",
        " print (\"a é zero \")\n",
        "elif a < 0:\n",
        " print (\"a é negativo \")\n",
        "else :\n",
        " print (\"a é positivo \")"
      ],
      "execution_count": null,
      "outputs": [
        {
          "output_type": "stream",
          "text": [
            "a é positivo \n"
          ],
          "name": "stdout"
        }
      ]
    },
    {
      "cell_type": "code",
      "metadata": {
        "id": "Kt3LS-bVrN1O",
        "colab_type": "code",
        "colab": {
          "base_uri": "https://localhost:8080/",
          "height": 68
        },
        "outputId": "ad3b15d5-df8d-4aa1-8145-265401094208"
      },
      "source": [
        "# Exemplo de uso de IF-ELIF\n",
        "\n",
        "# atribuindo um valor qualquer a uma variavel\n",
        "\n",
        "print(\" entre com o valor de um número inteiro: \")\n",
        "x = int(input())\n",
        "\n",
        "# verificando o valor da variavel\n",
        "if x<0:\n",
        "  print('O valor eh negativo')\n",
        "elif x<10:\n",
        "  print('O valor eh menor que 10')\n",
        "elif x<20:\n",
        "  print('O valor eh menor que 20')\n",
        "elif x<30:\n",
        "  print('O valor eh menor que 30')\n",
        "elif x<40:\n",
        "  print('O valor eh menor que 40')\n",
        "elif x<50:\n",
        "  print('O valor eh menor que 50')\n",
        "elif x<100:\n",
        "  print('O valor eh menor que 100')\n",
        "elif x<500:\n",
        "  print('O valor eh menor que 500')\n",
        "elif x<1000:\n",
        "  print('O valor eh menor que 1000')\n",
        "else:\n",
        "  print('O valor eh maior ou igual a 1000')"
      ],
      "execution_count": null,
      "outputs": [
        {
          "output_type": "stream",
          "text": [
            " entre com o valor de um número inteiro: \n",
            "23\n",
            "O valor eh menor que 30\n"
          ],
          "name": "stdout"
        }
      ]
    },
    {
      "cell_type": "code",
      "metadata": {
        "id": "mXzhLg3KqlZH",
        "colab_type": "code",
        "colab": {}
      },
      "source": [
        "# Exercício 20 - Homework\n",
        "\n",
        "# Leia tres string\n",
        "\n",
        "# Verifique se ao menos duas delas sao iguais entre si (imprima um aviso)\n",
        "# ou se todas sao diferentes entre si (imprima outro aviso)"
      ],
      "execution_count": null,
      "outputs": []
    },
    {
      "cell_type": "code",
      "metadata": {
        "id": "_Th6fvVU_sdQ",
        "colab_type": "code",
        "colab": {
          "base_uri": "https://localhost:8080/",
          "height": 35
        },
        "outputId": "d107ebe8-c0c3-48e6-a829-84a31ddf9f5b"
      },
      "source": [
        "\n",
        "# Exemplo de uso do comando if-else alinhado\n",
        "a = -34\n",
        "b = 10\n",
        "\n",
        "if (a > 0):\n",
        "  if (b >0):\n",
        "   print (\"O valor de a é positivo e valor de b é positivo\")\n",
        "  else:\n",
        "   print (\"O valor de a é positivo e valor de b não é positivo\")\n",
        "else :\n",
        "  if (b> 0) :\n",
        "   print (\"O valor de a não é positivo e o valor de b é positivo\")\n",
        "  else :  \n",
        "   print (\"O valor de a não é positivo e o valor de b nao é positivo\")\n"
      ],
      "execution_count": null,
      "outputs": [
        {
          "output_type": "stream",
          "text": [
            "O valor de a não é positivo e o valor de b é positivo\n"
          ],
          "name": "stdout"
        }
      ]
    },
    {
      "cell_type": "code",
      "metadata": {
        "id": "iNKZBw8iBEgh",
        "colab_type": "code",
        "colab": {}
      },
      "source": [
        "# Exercício 21 - Homework\n",
        "# Implemente o programa anterior com if-elif-else\n"
      ],
      "execution_count": null,
      "outputs": []
    },
    {
      "cell_type": "markdown",
      "metadata": {
        "id": "ihFKz5xBZe0n",
        "colab_type": "text"
      },
      "source": [
        "### Programa Desafio 2\n",
        "- Utilize o Programa Desafio 1 como base.\n",
        "- solicite o Nome, Sexo, Peso e Altura.\n",
        "- Calcule o IMC\n",
        "- Dê o diagnóstivo:\n",
        "  - Se for homem:\n",
        "    - menor que 20 --> abaixo do peso\n",
        "   - entre 20 e 25 --> normal\n",
        "    - entre 25 e 30 --> sobrepeso\n",
        "    - acima de 30  --> obesso\n",
        " \n",
        " - Se for mulher:\n",
        "    - menor que 19 --> abaixo do peso\n",
        "    - entre 19 e 24 --> normal\n",
        "    - entre 24 e 29 --> sobrepeso\n",
        "    - acima de 29  --> obesso\n",
        "\n",
        "\n",
        "Exemplo:\n",
        " Maria, baseado no seu IMC, você está abaixo do peso."
      ]
    },
    {
      "cell_type": "code",
      "metadata": {
        "id": "O-RZ8QslZV48",
        "colab_type": "code",
        "colab": {}
      },
      "source": [
        "# Código do Programa Desafio 2\n"
      ],
      "execution_count": null,
      "outputs": []
    },
    {
      "cell_type": "markdown",
      "metadata": {
        "id": "HlcqdyNxWtyg",
        "colab_type": "text"
      },
      "source": [
        "##  Comando de repetição (loops)\n",
        "- Comando for\n",
        "\n",
        "    for (variavel) in (sequencia):\n",
        "       comando_1\n",
        "       comando_2\n",
        "       ...\n",
        "       comando_n\n",
        "- Comando while\n",
        "    \n",
        "    while (condicao):\n",
        "       comando_1\n",
        "       comando_2\n",
        "       ...\n",
        "       comando_n"
      ]
    },
    {
      "cell_type": "markdown",
      "metadata": {
        "id": "I-MaEPPdwfiz",
        "colab_type": "text"
      },
      "source": [
        "### Nota:\n",
        " - O comando for é usado para percorrer uma sequência qualquer."
      ]
    },
    {
      "cell_type": "code",
      "metadata": {
        "id": "GosKA8-OwJps",
        "colab_type": "code",
        "colab": {}
      },
      "source": [
        "# Exemplo de uso do comando for\n",
        "for letter in \"banana\":\n",
        "   print(letter)"
      ],
      "execution_count": null,
      "outputs": []
    },
    {
      "cell_type": "markdown",
      "metadata": {
        "id": "F79jSvWYwsWs",
        "colab_type": "text"
      },
      "source": [
        "- Também podemos percorrer um intervalo numerico com o range."
      ]
    },
    {
      "cell_type": "code",
      "metadata": {
        "id": "uCSsy8_dwXGB",
        "colab_type": "code",
        "colab": {}
      },
      "source": [
        "# Exemplo de uso do comando for\n",
        "\n",
        "for number in range(10):\n",
        "  print(number)"
      ],
      "execution_count": null,
      "outputs": []
    },
    {
      "cell_type": "code",
      "metadata": {
        "id": "OeZYS7fzw2xH",
        "colab_type": "code",
        "colab": {}
      },
      "source": [
        "# Exemplo de uso do comando for\n",
        "\n",
        "for x in range(5, 15):\n",
        "  print('O numero é ' + str(x))"
      ],
      "execution_count": null,
      "outputs": []
    },
    {
      "cell_type": "code",
      "metadata": {
        "id": "nx2n_og5xLA-",
        "colab_type": "code",
        "colab": {}
      },
      "source": [
        "# Exercício 21 - Homework\n",
        "# Implemente um laco que imprima a tabuada de um número\n",
        "\n",
        "print(\" entre com um número inteiro positivo: \")\n",
        "base = int(input())\n",
        "\n",
        "# Escreve o restante do código utilizando o comendo for\n",
        "\n"
      ],
      "execution_count": null,
      "outputs": []
    },
    {
      "cell_type": "code",
      "metadata": {
        "id": "aCK7XiE3ydLN",
        "colab_type": "code",
        "colab": {}
      },
      "source": [
        "# Exemplo - uso do comando for\n",
        "\n",
        "print(\"O range() pode ter o passo entre os elementos especificados.\")\n",
        "print( \"Neste exemplo, o passo é 10\")\n",
        "\n",
        "for y in range(0, 100, 10):\n",
        "  print('O numero eh ' + str(y))"
      ],
      "execution_count": null,
      "outputs": []
    },
    {
      "cell_type": "code",
      "metadata": {
        "id": "zzSjDSvrzBDA",
        "colab_type": "code",
        "colab": {}
      },
      "source": [
        "# Exercíco 22 - Homework\n",
        "\n",
        "# Implemente um laco que exiba os multiplos de 5 entre 0 e 50 (inclusive)"
      ],
      "execution_count": null,
      "outputs": []
    },
    {
      "cell_type": "code",
      "metadata": {
        "id": "3Iozwd8KWtyi",
        "colab_type": "code",
        "colab": {}
      },
      "source": [
        "# Exemplos de uso do comando for\n",
        "print(\"Primeiro print\")\n",
        "for i in range(2,5):\n",
        "    print(i)\n",
        "print(\"Segundo print\")\n",
        "for i in range(5):\n",
        "    print(i)\n",
        "print(\"Terceiro print\")\n",
        "lista = [\"p\", \"y\", \"t\", \"h\", \"o\", \"n\"]\n",
        "for item in lista:\n",
        "    print (item, end=' ')"
      ],
      "execution_count": null,
      "outputs": []
    },
    {
      "cell_type": "code",
      "metadata": {
        "id": "hUxvQ8URWtyp",
        "colab_type": "code",
        "colab": {}
      },
      "source": [
        "# Exemplo de uso do comando for\n",
        "for x in [1,2,6]:\n",
        " print(x)"
      ],
      "execution_count": null,
      "outputs": []
    },
    {
      "cell_type": "code",
      "metadata": {
        "id": "jNXGoyp4Wtyt",
        "colab_type": "code",
        "colab": {}
      },
      "source": [
        "# Exemplo de uso do comando for\n",
        "print(\"Uso do enumerate para se obter índice numérico\")\n",
        "for indice, valor in enumerate([\"p\", \"y\", \"t\", \"h\", \"o\", \"n\"]):\n",
        "    print (indice, valor)"
      ],
      "execution_count": null,
      "outputs": []
    },
    {
      "cell_type": "code",
      "metadata": {
        "id": "5Q1XZhItWtyz",
        "colab_type": "code",
        "colab": {}
      },
      "source": [
        "#Exemplo - É possível implementar do comando \"for\" via lista\n",
        "lista1 = [x**2 for x in range(0,5)]\n",
        "print(lista1)"
      ],
      "execution_count": null,
      "outputs": []
    },
    {
      "cell_type": "code",
      "metadata": {
        "id": "eCOKf5SXWty3",
        "colab_type": "code",
        "colab": {}
      },
      "source": [
        "#Exemplo - É possível implementar do comando \"for\" via lista\n",
        "lista2 = [True, \"2\", 3.0, 4]\n",
        "[type(item) for item in lista2]"
      ],
      "execution_count": null,
      "outputs": []
    },
    {
      "cell_type": "markdown",
      "metadata": {
        "id": "L1Vy98sEzOMN",
        "colab_type": "text"
      },
      "source": [
        "### Nota:\n",
        "-É possivel encadear um laco dentro de outro (sem limites)."
      ]
    },
    {
      "cell_type": "code",
      "metadata": {
        "id": "Rc4987AlzWaL",
        "colab_type": "code",
        "colab": {}
      },
      "source": [
        "# Exemplo for encadeado\n",
        "\n",
        "for a in range(0,10):\n",
        "  print(\"O valor de a é: \" + str(a))\n",
        "  for b in range(0,5):\n",
        "    print(\" \\t O valor de b é: \" + str(b))"
      ],
      "execution_count": null,
      "outputs": []
    },
    {
      "cell_type": "code",
      "metadata": {
        "id": "WO874PKfWty8",
        "colab_type": "code",
        "colab": {}
      },
      "source": [
        "# Exemplo de uso do comando while\n",
        "count = 0\n",
        "while count <= 5:\n",
        "    print(count)\n",
        "    count += 1"
      ],
      "execution_count": null,
      "outputs": []
    },
    {
      "cell_type": "code",
      "metadata": {
        "id": "y7Qc_tDqWtzA",
        "colab_type": "code",
        "colab": {}
      },
      "source": [
        "# Exemplo de uso do comando while com break\n",
        "count = 0\n",
        "while count <= 5:\n",
        "    print(count)\n",
        "    count += 1\n",
        "    if count > 3: break"
      ],
      "execution_count": null,
      "outputs": []
    },
    {
      "cell_type": "code",
      "metadata": {
        "id": "AIFplMKNWtzD",
        "colab_type": "code",
        "colab": {}
      },
      "source": [
        "# Comando else no final de um loop é executado após o término do loop\n",
        "#\n",
        "# Loop while\n",
        "#\n",
        "count = 0\n",
        "while count <= 5:\n",
        "    print(count)\n",
        "    count += 1\n",
        "    if(count == 3):break\n",
        "else:\n",
        "    print('após iteração')\n",
        "\n",
        "#\n",
        "# Loop for\n",
        "#\n",
        "for i in range(5):\n",
        "    print(i)\n",
        "else:\n",
        "    print('após iteração')\n"
      ],
      "execution_count": null,
      "outputs": []
    },
    {
      "cell_type": "markdown",
      "metadata": {
        "id": "YwXCn5UyWtzI",
        "colab_type": "text"
      },
      "source": [
        "## Definição de Função em Python\n",
        "    \n",
        "    def funcao(lista_parametros):\n",
        "       comando_1\n",
        "       comando_2\n",
        "       ...\n",
        "       comando_n\n",
        "       return(variavel_de_saida)"
      ]
    },
    {
      "cell_type": "markdown",
      "metadata": {
        "id": "Ra8NPh0nu5-L",
        "colab_type": "text"
      },
      "source": [
        "### Função:\n",
        "- função sem valor de retorno - procedimento"
      ]
    },
    {
      "cell_type": "code",
      "metadata": {
        "id": "gouic33wWtzK",
        "colab_type": "code",
        "colab": {}
      },
      "source": [
        "# exemplo de função sem retorno de variáveis\n",
        "\n",
        "def hello(meu_nome):\n",
        "  print('Olá,',meu_nome, \".\")"
      ],
      "execution_count": null,
      "outputs": []
    },
    {
      "cell_type": "code",
      "metadata": {
        "id": "5eVsjzx1WtzY",
        "colab_type": "code",
        "colab": {}
      },
      "source": [
        "hello(\"John Snow. You know nothing!\")"
      ],
      "execution_count": null,
      "outputs": []
    },
    {
      "cell_type": "markdown",
      "metadata": {
        "id": "pZtaxUbcuJod",
        "colab_type": "text"
      },
      "source": [
        "### Função:\n",
        "- Uso de parâmetros Defaults "
      ]
    },
    {
      "cell_type": "code",
      "metadata": {
        "id": "HSzogyqcWtzg",
        "colab_type": "code",
        "colab": {}
      },
      "source": [
        "def hello(meu_nome,idade=10):\n",
        "  print('Olá, ',meu_nome,'\\nSua idade é:',idade)"
      ],
      "execution_count": null,
      "outputs": []
    },
    {
      "cell_type": "code",
      "metadata": {
        "id": "LGqJSKCzWtzm",
        "colab_type": "code",
        "colab": {
          "base_uri": "https://localhost:8080/",
          "height": 52
        },
        "outputId": "f1f56e4a-9b67-4ca5-c363-af0862cec2b7"
      },
      "source": [
        "hello(\"João da Silva\", 21)"
      ],
      "execution_count": null,
      "outputs": [
        {
          "output_type": "stream",
          "text": [
            "Olá,  João da Silva \n",
            "Sua idade é: 21\n"
          ],
          "name": "stdout"
        }
      ]
    },
    {
      "cell_type": "code",
      "metadata": {
        "id": "fIEMsGA3Wtzt",
        "colab_type": "code",
        "colab": {
          "base_uri": "https://localhost:8080/",
          "height": 52
        },
        "outputId": "ef991f13-9dfc-4471-eb19-74f9ce2d64f6"
      },
      "source": [
        "hello(\"João da Silva\")"
      ],
      "execution_count": null,
      "outputs": [
        {
          "output_type": "stream",
          "text": [
            "Olá,  João da Silva \n",
            "Sua idade é: 10\n"
          ],
          "name": "stdout"
        }
      ]
    },
    {
      "cell_type": "code",
      "metadata": {
        "id": "cbKZxFjkucCl",
        "colab_type": "code",
        "colab": {}
      },
      "source": [
        "# Exercíco - Reescreva a função hello(), acrescentando o parâmetro default altura = 1.73\n"
      ],
      "execution_count": null,
      "outputs": []
    },
    {
      "cell_type": "code",
      "metadata": {
        "id": "h3OAwJOAuyEf",
        "colab_type": "code",
        "colab": {}
      },
      "source": [
        "hello(\"João da Silva\")"
      ],
      "execution_count": null,
      "outputs": []
    },
    {
      "cell_type": "markdown",
      "metadata": {
        "id": "O1RflDZPvLbS",
        "colab_type": "text"
      },
      "source": [
        "### Função:\n",
        "- função com valor de retorno"
      ]
    },
    {
      "cell_type": "code",
      "metadata": {
        "id": "OzsKMlwNWtz3",
        "colab_type": "code",
        "colab": {}
      },
      "source": [
        "# Exemplo de função com valor de retorno\n",
        "def calcular_pagamento(horas, taxa):\n",
        " salario=float(horas)*float(taxa)\n",
        " return (salario)"
      ],
      "execution_count": null,
      "outputs": []
    },
    {
      "cell_type": "code",
      "metadata": {
        "id": "rMFpatabWtz-",
        "colab_type": "code",
        "colab": {}
      },
      "source": [
        "total_salario = calcular_pagamento(40,20)\n",
        "print('O valor de seus rendimentos é R$',total_salario)"
      ],
      "execution_count": null,
      "outputs": []
    },
    {
      "cell_type": "code",
      "metadata": {
        "id": "Dm-U6r0pWt0L",
        "colab_type": "code",
        "colab": {}
      },
      "source": [
        "str_horas= input('Digite as horas: ')\n",
        "str_taxa=input('Digite a taxa: ')"
      ],
      "execution_count": null,
      "outputs": []
    },
    {
      "cell_type": "code",
      "metadata": {
        "id": "S2cORsX7Wt0a",
        "colab_type": "code",
        "colab": {}
      },
      "source": [
        "print(str_horas)\n",
        "print(str_taxa)\n",
        "float_horas = float(str_horas)\n",
        "float_taxa = float(str_taxa)"
      ],
      "execution_count": null,
      "outputs": []
    },
    {
      "cell_type": "code",
      "metadata": {
        "id": "4_En37fHWt0g",
        "colab_type": "code",
        "colab": {}
      },
      "source": [
        "print(float_horas)\n",
        "print(float_taxa)\n",
        "total_salario = calcular_pagamento(float_horas,float_taxa)\n",
        "print('O valor de seus rendimentos é R$',total_salario)"
      ],
      "execution_count": null,
      "outputs": []
    },
    {
      "cell_type": "code",
      "metadata": {
        "id": "VPndZJMhWtz1",
        "colab_type": "code",
        "colab": {}
      },
      "source": [
        "# Segunda versão da função calculo_pagamento\n",
        "def calcular_pagamento(qtd_horas, valor_hora):\n",
        "    horas = float(qtd_horas)\n",
        "    taxa = float(valor_hora)\n",
        "    if horas <= 40:\n",
        "        salario=horas*taxa\n",
        "    else:\n",
        "        h_excd = horas - 40\n",
        "        salario = 40*taxa+(h_excd*(1.5*taxa))\n",
        "    return (salario)"
      ],
      "execution_count": null,
      "outputs": []
    },
    {
      "cell_type": "code",
      "metadata": {
        "id": "-OvmVJnhsXTD",
        "colab_type": "code",
        "colab": {
          "base_uri": "https://localhost:8080/",
          "height": 35
        },
        "outputId": "e388f382-65ef-4efa-f34a-51e7230dbf3e"
      },
      "source": [
        "calcular_pagamento(20,20)"
      ],
      "execution_count": null,
      "outputs": [
        {
          "output_type": "execute_result",
          "data": {
            "text/plain": [
              "400.0"
            ]
          },
          "metadata": {
            "tags": []
          },
          "execution_count": 2
        }
      ]
    },
    {
      "cell_type": "markdown",
      "metadata": {
        "id": "9Ery8NSYtmZp",
        "colab_type": "text"
      },
      "source": [
        "### Função:\n",
        "- Como ficam as variáveis definidas dentro de uma função?"
      ]
    },
    {
      "cell_type": "code",
      "metadata": {
        "id": "yewlnnqEtwQ8",
        "colab_type": "code",
        "colab": {}
      },
      "source": [
        "# Exemplo de comportamento de variáveis definidas dentro de função\n",
        "def f():\n",
        "  x = 10\n",
        "  print(x)\n"
      ],
      "execution_count": null,
      "outputs": []
    },
    {
      "cell_type": "code",
      "metadata": {
        "id": "8lnRYTKlvd02",
        "colab_type": "code",
        "colab": {
          "base_uri": "https://localhost:8080/",
          "height": 52
        },
        "outputId": "27a04cf4-f7c9-4d77-e3ea-f257f7a11b3d"
      },
      "source": [
        "x = 100\n",
        "f()\n",
        "print(x)"
      ],
      "execution_count": null,
      "outputs": [
        {
          "output_type": "stream",
          "text": [
            "10\n",
            "100\n"
          ],
          "name": "stdout"
        }
      ]
    },
    {
      "cell_type": "code",
      "metadata": {
        "id": "nbedu6y5wDxo",
        "colab_type": "code",
        "colab": {}
      },
      "source": [
        "# Exemplo de comportamento de variáveis definidas dentro de função\n",
        "def f(x):\n",
        "  x = 10\n",
        "  print(x)\n",
        "  "
      ],
      "execution_count": null,
      "outputs": []
    },
    {
      "cell_type": "code",
      "metadata": {
        "id": "rqur7zRTwQ_n",
        "colab_type": "code",
        "colab": {
          "base_uri": "https://localhost:8080/",
          "height": 52
        },
        "outputId": "20bfc20f-4c78-4ef2-96c2-ee35a3346e62"
      },
      "source": [
        "x = 100\n",
        "f(x)\n",
        "print(x)"
      ],
      "execution_count": null,
      "outputs": [
        {
          "output_type": "stream",
          "text": [
            "10\n",
            "100\n"
          ],
          "name": "stdout"
        }
      ]
    },
    {
      "cell_type": "markdown",
      "metadata": {
        "id": "cIJ0dN0EwcDl",
        "colab_type": "text"
      },
      "source": [
        "### Função:\n",
        "- Como utilizar uma variável externa dentro da função?"
      ]
    },
    {
      "cell_type": "code",
      "metadata": {
        "id": "rCeqtaTYwyCb",
        "colab_type": "code",
        "colab": {}
      },
      "source": [
        "# Exemplo de comportamento de variáveis definidas dentro de função\n",
        "# Como utilizar uma variável externa dentro de uma função\n",
        "\n",
        "def f():\n",
        "  global x\n",
        "  x = 10\n",
        "  print(x)"
      ],
      "execution_count": null,
      "outputs": []
    },
    {
      "cell_type": "code",
      "metadata": {
        "id": "zm_fVevQxDY1",
        "colab_type": "code",
        "colab": {
          "base_uri": "https://localhost:8080/",
          "height": 70
        },
        "outputId": "52465d87-a58b-41e1-8859-426ef16a4e8f"
      },
      "source": [
        "x = 100\n",
        "f()\n",
        "print(x)\n",
        "print(\"Ufa. deu certo.\")"
      ],
      "execution_count": null,
      "outputs": [
        {
          "output_type": "stream",
          "text": [
            "10\n",
            "10\n",
            "Ufa. deu certo\n"
          ],
          "name": "stdout"
        }
      ]
    },
    {
      "cell_type": "markdown",
      "metadata": {
        "id": "QDzhmHxwxCaT",
        "colab_type": "text"
      },
      "source": [
        ""
      ]
    },
    {
      "cell_type": "markdown",
      "metadata": {
        "id": "37cyjfGbxBbK",
        "colab_type": "text"
      },
      "source": [
        ""
      ]
    },
    {
      "cell_type": "markdown",
      "metadata": {
        "id": "YofXX0ynwzzj",
        "colab_type": "text"
      },
      "source": [
        "### Função:\n",
        "- É possível uma função retornar mais de uma variável?"
      ]
    },
    {
      "cell_type": "code",
      "metadata": {
        "id": "POkESbSTWt0l",
        "colab_type": "code",
        "colab": {
          "base_uri": "https://localhost:8080/",
          "height": 70
        },
        "outputId": "9474fc46-c9b1-4a9f-83ca-558c8d41e624"
      },
      "source": [
        "# Exemplo de função - retorno mais de uma variável\n",
        "print(\"Programa com exemplo para função que retorna mais de uma variável.\")\n",
        "def powers(x):\n",
        " #Retorna o quadrado, o cubo e a quarta potência de um dado número x.\"\"\"\n",
        " return x ** 2, x ** 3, x ** 4\n",
        "print(powers(2))\n",
        "x2, x3, x4 = powers(3)\n",
        "print(\"x2=\",x2,\" x3=\",x3,\"x4=\", x4)"
      ],
      "execution_count": null,
      "outputs": [
        {
          "output_type": "stream",
          "text": [
            "Programa com exemplo para função que retorna mais de uma variável.\n",
            "(4, 8, 16)\n",
            "x2= 9  x3= 27 x4= 81\n"
          ],
          "name": "stdout"
        }
      ]
    },
    {
      "cell_type": "markdown",
      "metadata": {
        "id": "tgOHrAK5Wt0p",
        "colab_type": "text"
      },
      "source": [
        "### Lembrete:\n",
        "- Não se esqueça, na definição de uma função, podemos dar defaults nos argumentos da função"
      ]
    },
    {
      "cell_type": "code",
      "metadata": {
        "id": "QfaJ0Xy4Wt0q",
        "colab_type": "code",
        "colab": {}
      },
      "source": [
        "# Exemplo de função - Valores Default em função\n",
        "\n",
        "print(\"Exemplo de uso de função com parámetros 'default'\")\n",
        "\n",
        "def myfunc(x, p=2, debug=False):\n",
        "  if debug:\n",
        "   print(\"Mensagem do módulo debug da função myfunc para x = \" + str(x) + \" elevado \" + str(p))\n",
        "  return x**p\n",
        "\n",
        "print(myfunc(5))\n",
        "print(myfunc(5, debug=True))\n",
        "print(myfunc(p=3, debug=True, x=5))\n",
        "print(myfunc(5, 3))\n",
        "print(myfunc(5, 3, True))\n",
        "print(myfunc(5, 3, False))"
      ],
      "execution_count": null,
      "outputs": []
    },
    {
      "cell_type": "markdown",
      "metadata": {
        "id": "tBHnBBaVWt0s",
        "colab_type": "text"
      },
      "source": [
        "### Aspectos Avançados:\n",
        "Em Python, também podemos criar funções sem nome, usando a palavra-chave lambda:\n",
        "\n",
        "- nome_da_funcao  = lambda <parametro>: comandos"
      ]
    },
    {
      "cell_type": "code",
      "metadata": {
        "id": "WNXRTXmIWt0s",
        "colab_type": "code",
        "colab": {}
      },
      "source": [
        "# Exemplo de uso de função sem nome - Lambda Function\n",
        "# f1 e f2 são equivalentes\n",
        "\n",
        "f1 = lambda x: x**2\n",
        "\n",
        "\n",
        "def f2(x):\n",
        " return x**2"
      ],
      "execution_count": null,
      "outputs": []
    },
    {
      "cell_type": "code",
      "metadata": {
        "id": "VZIqA7fJWt0u",
        "colab_type": "code",
        "colab": {}
      },
      "source": [
        "f1(2), f2(2)"
      ],
      "execution_count": null,
      "outputs": []
    },
    {
      "cell_type": "markdown",
      "metadata": {
        "id": "HhGdphHsWt0v",
        "colab_type": "text"
      },
      "source": [
        "### Nota:\n",
        "Esta técnica é útil, por exemplo, quando queremos passar uma única função como um argumento para outra Função.\n",
        "\n",
        "Considere a função map(f, s), que aplica a função f para todos os elementos da sequência s. "
      ]
    },
    {
      "cell_type": "code",
      "metadata": {
        "id": "46v_HTu3Wt0w",
        "colab_type": "code",
        "colab": {}
      },
      "source": [
        "# Exemplo de uso da função map(),que retorna um objeto genérico\n",
        "def f(x):\n",
        "    return (x ** 2)\n",
        "lista2 = map(f, range (-3,4))\n",
        "list(lista2)"
      ],
      "execution_count": null,
      "outputs": []
    },
    {
      "cell_type": "code",
      "metadata": {
        "id": "mldCDACfWt01",
        "colab_type": "code",
        "colab": {}
      },
      "source": [
        "# Exemplo de uso da função map() com função anônima - lambda\n",
        "lista3 = map(lambda x: x**2, range(-3,4))\n",
        "list(lista3)"
      ],
      "execution_count": null,
      "outputs": []
    },
    {
      "cell_type": "markdown",
      "metadata": {
        "id": "C-zOKft7Wt02",
        "colab_type": "text"
      },
      "source": [
        "## Classes e Objetos em Python:\n",
        "\n",
        "- As classes são as principais características da programação orientada a objetos. \n",
        "- Uma classe é uma estrutura para representar um objeto e as operações que podem ser realizadas sobre ele. Assim, uma classe pode conter atributos (variáveis) e métodos (funções).\n",
        "- Uma classe é definida quase como uma função, mas usando a palavra-chave  \"classe\".\n",
        "- A definição da classe geralmente contém uma série de método de classe (uma função em uma classe).\n",
        "- Cada método de classe deve ter um argumento denominado de \"self\" como primeiro argumento. Isto é uma auto-referência ao objeto.\n",
        "- Alguns nomes de métodos de classe têm um significado especial, por exemplo:\n",
        "    - _init_: construtor da classe - O nome do método que é invocado quando o primeiro objeto é criado.\n",
        "    - _str_: Um método que é invocado quando uma representação de uma string da classe é necessária, como, por exemplo, quando deseja-se usar um print()."
      ]
    },
    {
      "cell_type": "markdown",
      "metadata": {
        "id": "wAVnHKOSBNZj",
        "colab_type": "text"
      },
      "source": [
        "## Classes - Estrutura Básica\n",
        "\n",
        "class Nome_da_Classe (Classe_Pai):\n",
        "            atributo_1\n",
        "            ...\n",
        "            atributo_n\n",
        "            \n",
        "            # ----- método construtor  -----\n",
        "            def _init_(self, par1, par2, ...):\n",
        "            \n",
        "            #  ---- outros métodos    -------\n",
        "            \n",
        "            def metodo_1(self, par1, ...):\n",
        "                 ...\n",
        "            \n",
        "            def metodo_m(self, parX, ...):     \n",
        "            \n",
        "            "
      ]
    },
    {
      "cell_type": "markdown",
      "metadata": {
        "id": "D0DxqENtCarL",
        "colab_type": "text"
      },
      "source": [
        "###  Usando a Classe\n",
        " - Neste caso, usa-se a prórpia classe"
      ]
    },
    {
      "cell_type": "code",
      "metadata": {
        "id": "IcB-mmqQCurV",
        "colab_type": "code",
        "colab": {
          "base_uri": "https://localhost:8080/",
          "height": 52
        },
        "outputId": "4d547a82-36b3-4afe-82aa-06c433217d4e"
      },
      "source": [
        "# Exemplo de Classe\n",
        "\n",
        "# Definição da Classe Carro\n",
        "# A classe Pai é Object - no caso pode ser omitida\n",
        "# estado é um atributo da classe Carro\n",
        "\n",
        "class Carro(object):\n",
        "   estado = \"novo\" \n",
        "\n",
        "print(Carro.estado)\n",
        "\n",
        "Carro.estado = \"usado\"\n",
        "\n",
        "print(Carro.estado)"
      ],
      "execution_count": null,
      "outputs": [
        {
          "output_type": "stream",
          "text": [
            "novo\n",
            "usado\n"
          ],
          "name": "stdout"
        }
      ]
    },
    {
      "cell_type": "markdown",
      "metadata": {
        "id": "q9pYiGr_DJma",
        "colab_type": "text"
      },
      "source": [
        "###  Usando a Classe\n",
        " - Neste caso, usa-se uma instância (objeto) da classe"
      ]
    },
    {
      "cell_type": "code",
      "metadata": {
        "id": "uFy9dje-QSwZ",
        "colab_type": "code",
        "colab": {
          "base_uri": "https://localhost:8080/",
          "height": 52
        },
        "outputId": "380320fe-a276-4f0f-84c8-6776e63ff950"
      },
      "source": [
        "# Exemplo de Classe e Objeto\n",
        "\n",
        "# Classe Carro\n",
        "\n",
        "class Carro(object):\n",
        "    \n",
        "    estado = \"novo\"\n",
        "\n",
        "    def usar(self):\n",
        "        self.estado = \"usado\"\n",
        "\n",
        "       \n",
        "meu_fusca = Carro()   # criação do objeto meu_fusca da classe Carro\n",
        "\n",
        "print(meu_fusca.estado) \n",
        "meu_fusca.usar()\n",
        "print(meu_fusca.estado) "
      ],
      "execution_count": null,
      "outputs": [
        {
          "output_type": "stream",
          "text": [
            "novo\n",
            "usado\n"
          ],
          "name": "stdout"
        }
      ]
    },
    {
      "cell_type": "markdown",
      "metadata": {
        "id": "6VAekPv9SBeV",
        "colab_type": "text"
      },
      "source": [
        "### Dúvida:\n",
        "O que ocorreria se não se usar a referência self no método usar()?"
      ]
    },
    {
      "cell_type": "markdown",
      "metadata": {
        "id": "xNMHBelfS7CN",
        "colab_type": "text"
      },
      "source": [
        "### Exercício:\n",
        "- Inclua o atributo cor na classe Carro, com valor inicial \"branco\"\n",
        "- implemente os métodos\n",
        "    -  cor pegaCor() \n",
        "    - pintaCarro(\"cor\")"
      ]
    },
    {
      "cell_type": "code",
      "metadata": {
        "id": "8wthAipaTgXJ",
        "colab_type": "code",
        "colab": {}
      },
      "source": [
        "# Exemplo de Classe e Objeto\n",
        "# Implemente o atributo cor\n",
        "# implemente os métodos pegaCor() e pintaCarro(cor)\n",
        "\n",
        "\n",
        "# Classe Carro\n",
        "\n",
        "class Carro(object):\n",
        "    \n",
        "    estado = \"novo\"\n",
        "\n",
        "    def usar(self):\n",
        "        self.estado = \"usado\"\n",
        "\n",
        "   \n",
        "\n",
        "        \n",
        "       \n",
        "meu_fusca = Carro()   # criação do objeto meu_fusca da classe Carro\n",
        "\n",
        "print(meu_fusca.estado) \n",
        "meu_fusca.usar()\n",
        "print(meu_fusca.estado)\n",
        "\n",
        "print(\"A cor do carro é: \", meu_fusca.pegaCor())\n",
        "\n",
        "meu_fusca.pintaCarro(\"Azul\")\n",
        "print(\"A cor do carro é: \", meu_fusca.pegaCor())"
      ],
      "execution_count": null,
      "outputs": []
    },
    {
      "cell_type": "markdown",
      "metadata": {
        "id": "-W6euX-EUsgY",
        "colab_type": "text"
      },
      "source": [
        "### Classe - Usando o método construtor __init__(self, ...)"
      ]
    },
    {
      "cell_type": "code",
      "metadata": {
        "id": "Px0_JfVvUzmX",
        "colab_type": "code",
        "colab": {
          "base_uri": "https://localhost:8080/",
          "height": 35
        },
        "outputId": "fb6065e0-a2be-408c-c1ec-b43c7bbac4ab"
      },
      "source": [
        "class Carro(object):\n",
        "    def __init__(self, estado):\n",
        "        self.estado = estado\n",
        "\n",
        "bmw = Carro('semi-novo')\n",
        "print(bmw.estado) "
      ],
      "execution_count": null,
      "outputs": [
        {
          "output_type": "stream",
          "text": [
            "semi-novo\n"
          ],
          "name": "stdout"
        }
      ]
    },
    {
      "cell_type": "markdown",
      "metadata": {
        "id": "II_aU6urVr37",
        "colab_type": "text"
      },
      "source": [
        "### Exercício\n",
        "Implemente a classe Carro com 03 métodos construtor\n",
        "- __init(self)\n",
        "- __init(self, estado)\n",
        "- __init(self, estado, cor)\n",
        "\n",
        "- crie um fusca sem cor e estado\n",
        "- crie um opala branco usado\n",
        "- crie uma ferrari vermelha nova\n"
      ]
    },
    {
      "cell_type": "code",
      "metadata": {
        "id": "rSTxBcecWO9S",
        "colab_type": "code",
        "colab": {
          "base_uri": "https://localhost:8080/",
          "height": 52
        },
        "outputId": "d46f325f-3842-4bc4-d02b-c4b35d14250a"
      },
      "source": [
        "# Exemplo de Classe e Objeto\n",
        "# Impleme os 03 métodos construtures\n",
        "\n",
        "\n",
        "\n",
        "# Classe Carro\n",
        "\n",
        "class Carro(object):\n",
        "    \n",
        "    #estado = \"kkk\"\n",
        "    \n",
        "    #  --- primeiro método construtor  ------\n",
        "    def __init__(self):\n",
        "        self.estado = \"novo\"\n",
        "        self.cor = \"branco\"\n",
        "\n",
        "    # --- segundo método construtor  -------\n",
        "    \n",
        "    \n",
        "    #  --- terceiro método construtor  ------\n",
        "    \n",
        "    \n",
        "    \n",
        "    # --- outros métodos  ----\n",
        "    \n",
        "    def pegarCor(self)\n",
        "        return(self.cor)\n",
        "    \n",
        "    def usar(self):\n",
        "        self.estado = \"usado\"\n",
        "            \n",
        "    def pintarCarro(self, cor):\n",
        "        self.cor = cor\n",
        "\n",
        "        \n",
        "        \n",
        "       \n",
        "meu_fusca = Carro()   # criação do objeto meu_fusca da classe Carro\n",
        "\n",
        "print(meu_fusca.estado) \n",
        "meu_fusca.usar()\n",
        "print(meu_fusca.estado)\n",
        "\n",
        "#print(\"A cor do carro é: \", meu_fusca.pegaCor())\n",
        "\n",
        "#meu_fusca.pintaCarro(\"Azul\")\n",
        "#print(\"A cor do carro é: \", meu_fusca.pegaCor())\n",
        "\n",
        "meu_opala = ???\n",
        "minha_ferrari = ???\n",
        "\n",
        "# - complete o programa usando a Ferrari e pintando "
      ],
      "execution_count": null,
      "outputs": [
        {
          "output_type": "stream",
          "text": [
            "novo\n",
            "usado\n"
          ],
          "name": "stdout"
        }
      ]
    },
    {
      "cell_type": "markdown",
      "metadata": {
        "id": "xH0luhrVVFO6",
        "colab_type": "text"
      },
      "source": [
        "### Classe - Criando herança de classes"
      ]
    },
    {
      "cell_type": "code",
      "metadata": {
        "id": "MbO7HxElaSPA",
        "colab_type": "code",
        "colab": {
          "base_uri": "https://localhost:8080/",
          "height": 52
        },
        "outputId": "7ca59303-c9dd-41c3-e50b-a61278fe975a"
      },
      "source": [
        "# -- Classe Taxi, derivada da Classe Carro\n",
        "# ---- Herda todos os atributos e métodos da Classe Pai\n",
        "\n",
        "class Carro_de_Aplicativo(Carro):\n",
        " tipo = \"uber\"\n",
        "  \n",
        "carro1 = Carro_de_Aplicativo() \n",
        "print(carro1.estado)\n",
        "print(carro1.tipo)"
      ],
      "execution_count": null,
      "outputs": [
        {
          "output_type": "stream",
          "text": [
            "novo\n",
            "uber\n"
          ],
          "name": "stdout"
        }
      ]
    },
    {
      "cell_type": "markdown",
      "metadata": {
        "id": "yGeMRYO7ciI5",
        "colab_type": "text"
      },
      "source": [
        "### Outro exemplo de uso de Classe e Objetos"
      ]
    },
    {
      "cell_type": "code",
      "metadata": {
        "id": "NJW2pL1wWt02",
        "colab_type": "code",
        "colab": {}
      },
      "source": [
        "# Criação da Classe Ponto\n",
        "class Ponto:  \n",
        " def __init__(self, x, y):\n",
        "  self.x = x\n",
        "  self.y = y\n",
        "  \n",
        " \n",
        " def translacao(self, dx, dy):\n",
        "  self.x += dx\n",
        "  self.y += dy\n",
        "    \n",
        " def __str__(self):\n",
        "  return(\"O ponto está no posição [%f, %f]\" % (self.x, self.y))"
      ],
      "execution_count": null,
      "outputs": []
    },
    {
      "cell_type": "code",
      "metadata": {
        "id": "wKgwARmsWt09",
        "colab_type": "code",
        "colab": {
          "base_uri": "https://localhost:8080/",
          "height": 35
        },
        "outputId": "f5036bcc-f017-4a58-bdea-0ecebc6f35d8"
      },
      "source": [
        "# Criação de um objeto p1 da classe Ponto \n",
        "p1 = Ponto(0, 0) \n",
        "print(p1)"
      ],
      "execution_count": null,
      "outputs": [
        {
          "output_type": "stream",
          "text": [
            "O ponto está no posição [0.000000, 0.000000]\n"
          ],
          "name": "stdout"
        }
      ]
    },
    {
      "cell_type": "code",
      "metadata": {
        "id": "XkZggTv3Wt0_",
        "colab_type": "code",
        "colab": {
          "base_uri": "https://localhost:8080/",
          "height": 88
        },
        "outputId": "56984594-0666-452d-aaef-6ec8975dd317"
      },
      "source": [
        "p2 = Ponto(1, 1)\n",
        "p1.translacao(0.25, 1.5)\n",
        "print(p1)\n",
        "print(p2)\n",
        "print(p1.x, p1.y)\n",
        "print(p2.x, p2.y)"
      ],
      "execution_count": null,
      "outputs": [
        {
          "output_type": "stream",
          "text": [
            "O ponto está no posição [0.250000, 1.500000]\n",
            "O ponto está no posição [1.000000, 1.000000]\n",
            "0.25 1.5\n",
            "1 1\n"
          ],
          "name": "stdout"
        }
      ]
    },
    {
      "cell_type": "code",
      "metadata": {
        "id": "AxekF2BBWt1C",
        "colab_type": "code",
        "colab": {}
      },
      "source": [
        "# Exercício - inclua os seguintes métodos na Classe Ponto\n",
        "# rotacao(angula_em_radiano), sem retorno\n",
        "# distancia(Ponto ponto1), retorna a distância do ponto dado (parâmetro) ao ponto\n",
        "\n"
      ],
      "execution_count": null,
      "outputs": []
    },
    {
      "cell_type": "markdown",
      "metadata": {
        "id": "n-T2RSk7ycz6",
        "colab_type": "text"
      },
      "source": [
        "### Exemplo de Uso de Classe e Objetos:\n",
        "Defina uma classe denominada Pessoa, com os atributos:\n",
        "- Nome, Idade\n",
        "\n",
        "E os métodos:\n",
        "- setNome(nome)\n",
        "- setIdade(idade)\n",
        "- getNome()\n",
        "- getIdade()\n"
      ]
    },
    {
      "cell_type": "code",
      "metadata": {
        "id": "AGvRIlwO0Y34",
        "colab_type": "code",
        "colab": {}
      },
      "source": [
        "# Definição da classe Pessoa\n",
        "\n"
      ],
      "execution_count": null,
      "outputs": []
    },
    {
      "cell_type": "markdown",
      "metadata": {
        "id": "c3cCTggcc24G",
        "colab_type": "text"
      },
      "source": [
        "### Exercício\n",
        "- Implemente a Classe Motorista como extensão da classe Pessoa com o atributo Carro\n",
        "  - Um Motorista é uma Pessoa que tem um Carro "
      ]
    },
    {
      "cell_type": "code",
      "metadata": {
        "id": "Jf_AvRnWdKab",
        "colab_type": "code",
        "colab": {}
      },
      "source": [
        "# Definição da Classe Motorista"
      ],
      "execution_count": null,
      "outputs": []
    },
    {
      "cell_type": "code",
      "metadata": {
        "id": "UuF-PY9DdioR",
        "colab_type": "code",
        "colab": {}
      },
      "source": [
        "# Programa que cria um objeto do tipo Motorista\n",
        "# Nome: Maria\n",
        "# Idade: 25\n",
        "# carro: Gol, Azul, Usado\n"
      ],
      "execution_count": null,
      "outputs": []
    },
    {
      "cell_type": "markdown",
      "metadata": {
        "id": "Kle7uEbSWt1F",
        "colab_type": "text"
      },
      "source": [
        "## Tipo de Dado Dicionário em Python\n",
        "\n",
        "- Dicionário é um tipo de coleção, como lista, porém poderem usar qualquer tipo imutavel de dados como indice.Isto é feito a partir de uma chave, que pode ser qualquer tipo imutável, para um valor, que pode ser qualquer objeto de dados do Python.\n",
        "- Uma maneira de criar um dicionario é comecando com um dicionário vazio e depois adiconar elementos. Um dicionário vazio é denotado assim {}:"
      ]
    },
    {
      "cell_type": "code",
      "metadata": {
        "id": "3SpojpuoWt1F",
        "colab_type": "code",
        "colab": {}
      },
      "source": [
        "# Exemplo: dicionário de Portugues para Ingles\n",
        "\n",
        "por_Para_ing = {}    # início do dicionário\n",
        "por_Para_ing['um'] = 'one'\n",
        "por_Para_ing['dois'] = 'two'\n",
        "por_Para_ing"
      ],
      "execution_count": null,
      "outputs": []
    },
    {
      "cell_type": "code",
      "metadata": {
        "id": "4rTHX445Wt1N",
        "colab_type": "code",
        "colab": {}
      },
      "source": [
        "por_Para_ing['um']"
      ],
      "execution_count": null,
      "outputs": []
    },
    {
      "cell_type": "code",
      "metadata": {
        "id": "oUcC9WirWt1R",
        "colab_type": "code",
        "colab": {}
      },
      "source": [
        "por_Para_ing['três'] = 'three'\n",
        "por_Para_ing"
      ],
      "execution_count": null,
      "outputs": []
    },
    {
      "cell_type": "code",
      "metadata": {
        "id": "RGPo1rPBWt1S",
        "colab_type": "code",
        "colab": {}
      },
      "source": [
        "# Exemplo: dicionário de Portugues para Ingles\n",
        "ing_Para_por = {'one': 'um', 'two': 'dois', 'three': 'três'}\n",
        "ing_Para_por"
      ],
      "execution_count": null,
      "outputs": []
    },
    {
      "cell_type": "code",
      "metadata": {
        "id": "_d7f34GsWt1W",
        "colab_type": "code",
        "colab": {}
      },
      "source": [
        "# Comandos\n",
        "- del       Remove um par chave-valor de um dicionário\n",
        "- len       Retorna a quantidade de itens"
      ],
      "execution_count": null,
      "outputs": []
    },
    {
      "cell_type": "code",
      "metadata": {
        "id": "NjBn5V4FWt1Z",
        "colab_type": "code",
        "colab": {}
      },
      "source": [
        "len(ing_Para_por)"
      ],
      "execution_count": null,
      "outputs": []
    },
    {
      "cell_type": "code",
      "metadata": {
        "id": "mAPoJ4oEWt1c",
        "colab_type": "code",
        "colab": {}
      },
      "source": [
        "ing_Para_por"
      ],
      "execution_count": null,
      "outputs": []
    },
    {
      "cell_type": "code",
      "metadata": {
        "id": "TmCGMKPGWt1h",
        "colab_type": "code",
        "colab": {}
      },
      "source": [
        "del(ing_Para_por['three'])\n",
        "ing_Para_por"
      ],
      "execution_count": null,
      "outputs": []
    },
    {
      "cell_type": "markdown",
      "metadata": {
        "id": "HfIAIH-vWt1k",
        "colab_type": "text"
      },
      "source": [
        "### Lembrete:\n",
        "Dicionários possuem vários métodos nativos úteis.\n",
        "\n",
        "    - keys()  \t \tRetorna uma vista das chaves no dicionário\n",
        "    - values()  \tRetorna uma vista dos valores no dicionário\n",
        "    - items() \t  Retorna uma vista dos pares chave-valor no dicionário\n",
        "    - get(key) \t  Retorna o valor associado com a chave; ou None\n",
        "    - items()     Retorna os dois valores, na forma de uma lista de tuplas - cada tupla com um par chave-valor    "
      ]
    },
    {
      "cell_type": "code",
      "metadata": {
        "id": "cKhNJufYWt1k",
        "colab_type": "code",
        "colab": {}
      },
      "source": [
        "por_Para_ing.keys()"
      ],
      "execution_count": null,
      "outputs": []
    },
    {
      "cell_type": "code",
      "metadata": {
        "id": "YV4uD45iWt1m",
        "colab_type": "code",
        "colab": {}
      },
      "source": [
        "por_Para_ing.values()"
      ],
      "execution_count": null,
      "outputs": []
    },
    {
      "cell_type": "code",
      "metadata": {
        "id": "vU7D4L4SWt1p",
        "colab_type": "code",
        "colab": {}
      },
      "source": [
        "por_Para_ing.get('um')"
      ],
      "execution_count": null,
      "outputs": []
    },
    {
      "cell_type": "code",
      "metadata": {
        "id": "4EAR5dc2Wt1u",
        "colab_type": "code",
        "colab": {}
      },
      "source": [
        "# Exemplo de uso de dicionários\n",
        "inventario = {'abacaxis': 430, 'bananas': 312, 'laranjas': 525, 'peras': 217}"
      ],
      "execution_count": null,
      "outputs": []
    },
    {
      "cell_type": "code",
      "metadata": {
        "id": "sEOaoz94Wt1x",
        "colab_type": "code",
        "colab": {}
      },
      "source": [
        "inventario"
      ],
      "execution_count": null,
      "outputs": []
    },
    {
      "cell_type": "code",
      "metadata": {
        "id": "bxd1l98-Wt12",
        "colab_type": "code",
        "colab": {}
      },
      "source": [
        "inventario['bananas'] = 311"
      ],
      "execution_count": null,
      "outputs": []
    },
    {
      "cell_type": "code",
      "metadata": {
        "id": "gmq3Y9BEWt14",
        "colab_type": "code",
        "colab": {}
      },
      "source": [
        "inventario"
      ],
      "execution_count": null,
      "outputs": []
    },
    {
      "cell_type": "code",
      "metadata": {
        "id": "dWsv8oWEWt18",
        "colab_type": "code",
        "colab": {}
      },
      "source": [
        "# Exemplo de uso de Dicionário\n",
        "aluno = {\n",
        "    \"nome\": \"joao\",\n",
        "    \"matricula\": 2015200101,\n",
        "    \"idade\": 39,\n",
        "    \"habilidades\": ['python', 'java', 'c/c++']\n",
        "}"
      ],
      "execution_count": null,
      "outputs": []
    },
    {
      "cell_type": "code",
      "metadata": {
        "id": "m04bJ8P8Wt2B",
        "colab_type": "code",
        "colab": {}
      },
      "source": [
        "print(aluno['nome'])\n",
        "print(aluno['idade'])\n",
        "print (aluno['habilidades'])"
      ],
      "execution_count": null,
      "outputs": []
    },
    {
      "cell_type": "markdown",
      "metadata": {
        "id": "rqhnVkC_Wt2K",
        "colab_type": "text"
      },
      "source": [
        "## Criação de Módulo em Python\n",
        "\n",
        "- Um dos conceitos mais importantes na boa programação é reutilizar o código e evitar repetições.\n",
        "- A idéia é escrever funções e classes com um propósito e um escopo bem definidos e reutilizá-los em vez de repetir código similar em uma parte diferente de um programa (programação modular). O resultado é geralmente que a legibilidade e a manutenção de um programa são muito melhoradas. O que isso significa na prática é que nossos programas têm menos erros, são mais fáceis de estender e depurar / solucionar problemas.\n",
        "- O Python suporta programação modular em diferentes níveis. Funções e classes são exemplos de ferramentas para programação modular de baixo nível. Os módulos Python são uma construção de programação modular de nível superior, onde podemos coletar variáveis, funções e classes relacionadas em um módulo.\n",
        "- Um módulo python é definido em um arquivo python (com o ponto final do arquivo .py) e pode ser acessível a outros módulos e programas Python usando a instrução import."
      ]
    },
    {
      "cell_type": "code",
      "metadata": {
        "id": "rBhpXHYIWt2L",
        "colab_type": "code",
        "colab": {}
      },
      "source": [
        ""
      ],
      "execution_count": null,
      "outputs": []
    }
  ]
}